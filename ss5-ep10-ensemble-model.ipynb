{
 "cells": [
  {
   "cell_type": "code",
   "execution_count": 1,
   "id": "7fc2fde0",
   "metadata": {
    "_cell_guid": "b1076dfc-b9ad-4769-8c92-a6c4dae69d19",
    "_uuid": "8f2839f25d086af736a60e9eeb907d3b93b6e0e5",
    "execution": {
     "iopub.execute_input": "2025-10-31T07:48:47.257381Z",
     "iopub.status.busy": "2025-10-31T07:48:47.257139Z",
     "iopub.status.idle": "2025-10-31T07:48:58.746463Z",
     "shell.execute_reply": "2025-10-31T07:48:58.745677Z"
    },
    "papermill": {
     "duration": 11.496041,
     "end_time": "2025-10-31T07:48:58.747833",
     "exception": false,
     "start_time": "2025-10-31T07:48:47.251792",
     "status": "completed"
    },
    "tags": []
   },
   "outputs": [
    {
     "name": "stdout",
     "output_type": "stream",
     "text": [
      "/kaggle/input/simulated-roads-accident-data/synthetic_road_accidents_10k.csv\n",
      "/kaggle/input/simulated-roads-accident-data/synthetic_road_accidents_2k.csv\n",
      "/kaggle/input/simulated-roads-accident-data/synthetic_road_accidents_100k.csv\n",
      "/kaggle/input/playground-series-s5e10/sample_submission.csv\n",
      "/kaggle/input/playground-series-s5e10/train.csv\n",
      "/kaggle/input/playground-series-s5e10/test.csv\n"
     ]
    }
   ],
   "source": [
    "# This Python 3 environment comes with many helpful analytics libraries installed\n",
    "# It is defined by the kaggle/python Docker image: https://github.com/kaggle/docker-python\n",
    "# For example, here's several helpful packages to load\n",
    "%load_ext cudf.pandas\n",
    "import numpy as np # linear algebra\n",
    "import pandas as pd # data processing, CSV file I/O (e.g. pd.read_csv)\n",
    "import matplotlib.pyplot as plt\n",
    "import seaborn as sns\n",
    "from sklearn.preprocessing import StandardScaler, LabelEncoder\n",
    "from sklearn.model_selection import train_test_split, KFold\n",
    "from sklearn.compose import ColumnTransformer\n",
    "from sklearn.impute import SimpleImputer\n",
    "from sklearn.preprocessing import OneHotEncoder\n",
    "from sklearn.metrics import explained_variance_score, mean_absolute_error, mean_squared_error, r2_score\n",
    "from xgboost import XGBRegressor\n",
    "from lightgbm import LGBMRegressor, early_stopping, log_evaluation\n",
    "from catboost import CatBoostRegressor\n",
    "\n",
    "from sklearn.linear_model import Ridge, Lasso, BayesianRidge\n",
    "\n",
    "%matplotlib inline\n",
    "plt.style.use('seaborn-v0_8')\n",
    "plt.rc('figure', figsize=(10,6), dpi=180)\n",
    "plt.rc('axes', labelweight='bold', labelsize='large',\n",
    "       titleweight='bold', titlesize=15, titlepad=10)\n",
    "plt.rc('animation', html='html5')\n",
    "\n",
    "import warnings\n",
    "warnings.filterwarnings(\"ignore\", category=FutureWarning)\n",
    "\n",
    "# Input data files are available in the read-only \"../input/\" directory\n",
    "# For example, running this (by clicking run or pressing Shift+Enter) will list all files under the input directory\n",
    "\n",
    "import os\n",
    "for dirname, _, filenames in os.walk('/kaggle/input'):\n",
    "    for filename in filenames:\n",
    "        print(os.path.join(dirname, filename))\n",
    "\n",
    "# You can write up to 20GB to the current directory (/kaggle/working/) that gets preserved as output when you create a version using \"Save & Run All\" \n",
    "# You can also write temporary files to /kaggle/temp/, but they won't be saved outside of the current session"
   ]
  },
  {
   "cell_type": "code",
   "execution_count": 2,
   "id": "8da17dfc",
   "metadata": {
    "execution": {
     "iopub.execute_input": "2025-10-31T07:48:58.757383Z",
     "iopub.status.busy": "2025-10-31T07:48:58.756483Z",
     "iopub.status.idle": "2025-10-31T07:48:59.139529Z",
     "shell.execute_reply": "2025-10-31T07:48:59.138905Z"
    },
    "papermill": {
     "duration": 0.388821,
     "end_time": "2025-10-31T07:48:59.140904",
     "exception": false,
     "start_time": "2025-10-31T07:48:58.752083",
     "status": "completed"
    },
    "tags": []
   },
   "outputs": [],
   "source": [
    "train = pd.read_csv('/kaggle/input/playground-series-s5e10/train.csv', index_col='id')\n",
    "test = pd.read_csv('/kaggle/input/playground-series-s5e10/test.csv', index_col='id')"
   ]
  },
  {
   "cell_type": "code",
   "execution_count": 3,
   "id": "9a02568e",
   "metadata": {
    "execution": {
     "iopub.execute_input": "2025-10-31T07:48:59.154653Z",
     "iopub.status.busy": "2025-10-31T07:48:59.154367Z",
     "iopub.status.idle": "2025-10-31T07:48:59.334347Z",
     "shell.execute_reply": "2025-10-31T07:48:59.333413Z"
    },
    "papermill": {
     "duration": 0.186768,
     "end_time": "2025-10-31T07:48:59.336175",
     "exception": false,
     "start_time": "2025-10-31T07:48:59.149407",
     "status": "completed"
    },
    "tags": []
   },
   "outputs": [
    {
     "data": {
      "text/html": [
       "<div>\n",
       "<style scoped>\n",
       "    .dataframe tbody tr th:only-of-type {\n",
       "        vertical-align: middle;\n",
       "    }\n",
       "\n",
       "    .dataframe tbody tr th {\n",
       "        vertical-align: top;\n",
       "    }\n",
       "\n",
       "    .dataframe thead th {\n",
       "        text-align: right;\n",
       "    }\n",
       "</style>\n",
       "<table border=\"1\" class=\"dataframe\">\n",
       "  <thead>\n",
       "    <tr style=\"text-align: right;\">\n",
       "      <th></th>\n",
       "      <th>road_type</th>\n",
       "      <th>num_lanes</th>\n",
       "      <th>curvature</th>\n",
       "      <th>speed_limit</th>\n",
       "      <th>lighting</th>\n",
       "      <th>weather</th>\n",
       "      <th>road_signs_present</th>\n",
       "      <th>public_road</th>\n",
       "      <th>time_of_day</th>\n",
       "      <th>holiday</th>\n",
       "      <th>school_season</th>\n",
       "      <th>num_reported_accidents</th>\n",
       "      <th>accident_risk</th>\n",
       "    </tr>\n",
       "  </thead>\n",
       "  <tbody>\n",
       "    <tr>\n",
       "      <th>0</th>\n",
       "      <td>rural</td>\n",
       "      <td>2</td>\n",
       "      <td>0.72</td>\n",
       "      <td>60</td>\n",
       "      <td>daylight</td>\n",
       "      <td>clear</td>\n",
       "      <td>True</td>\n",
       "      <td>False</td>\n",
       "      <td>afternoon</td>\n",
       "      <td>False</td>\n",
       "      <td>False</td>\n",
       "      <td>2</td>\n",
       "      <td>0.37</td>\n",
       "    </tr>\n",
       "    <tr>\n",
       "      <th>1</th>\n",
       "      <td>highway</td>\n",
       "      <td>4</td>\n",
       "      <td>0.95</td>\n",
       "      <td>45</td>\n",
       "      <td>daylight</td>\n",
       "      <td>foggy</td>\n",
       "      <td>False</td>\n",
       "      <td>True</td>\n",
       "      <td>evening</td>\n",
       "      <td>False</td>\n",
       "      <td>True</td>\n",
       "      <td>1</td>\n",
       "      <td>0.40</td>\n",
       "    </tr>\n",
       "    <tr>\n",
       "      <th>2</th>\n",
       "      <td>rural</td>\n",
       "      <td>1</td>\n",
       "      <td>0.72</td>\n",
       "      <td>25</td>\n",
       "      <td>night</td>\n",
       "      <td>rainy</td>\n",
       "      <td>False</td>\n",
       "      <td>False</td>\n",
       "      <td>evening</td>\n",
       "      <td>True</td>\n",
       "      <td>False</td>\n",
       "      <td>1</td>\n",
       "      <td>0.55</td>\n",
       "    </tr>\n",
       "    <tr>\n",
       "      <th>3</th>\n",
       "      <td>rural</td>\n",
       "      <td>4</td>\n",
       "      <td>0.86</td>\n",
       "      <td>70</td>\n",
       "      <td>dim</td>\n",
       "      <td>foggy</td>\n",
       "      <td>True</td>\n",
       "      <td>False</td>\n",
       "      <td>morning</td>\n",
       "      <td>True</td>\n",
       "      <td>True</td>\n",
       "      <td>1</td>\n",
       "      <td>0.56</td>\n",
       "    </tr>\n",
       "    <tr>\n",
       "      <th>4</th>\n",
       "      <td>highway</td>\n",
       "      <td>1</td>\n",
       "      <td>0.00</td>\n",
       "      <td>60</td>\n",
       "      <td>night</td>\n",
       "      <td>rainy</td>\n",
       "      <td>True</td>\n",
       "      <td>True</td>\n",
       "      <td>morning</td>\n",
       "      <td>True</td>\n",
       "      <td>True</td>\n",
       "      <td>3</td>\n",
       "      <td>0.54</td>\n",
       "    </tr>\n",
       "  </tbody>\n",
       "</table>\n",
       "</div>"
      ],
      "text/plain": [
       "  road_type  num_lanes  curvature  speed_limit  lighting weather  \\\n",
       "0     rural          2       0.72           60  daylight   clear   \n",
       "1   highway          4       0.95           45  daylight   foggy   \n",
       "2     rural          1       0.72           25     night   rainy   \n",
       "3     rural          4       0.86           70       dim   foggy   \n",
       "4   highway          1       0.00           60     night   rainy   \n",
       "\n",
       "   road_signs_present  public_road time_of_day  holiday  school_season  \\\n",
       "0                True        False   afternoon    False          False   \n",
       "1               False         True     evening    False           True   \n",
       "2               False        False     evening     True          False   \n",
       "3                True        False     morning     True           True   \n",
       "4                True         True     morning     True           True   \n",
       "\n",
       "   num_reported_accidents  accident_risk  \n",
       "0                       2           0.37  \n",
       "1                       1           0.40  \n",
       "2                       1           0.55  \n",
       "3                       1           0.56  \n",
       "4                       3           0.54  "
      ]
     },
     "execution_count": 3,
     "metadata": {},
     "output_type": "execute_result"
    }
   ],
   "source": [
    "org = []\n",
    "for n in [2, 10, 100]:\n",
    "    df = pd.read_csv(f'/kaggle/input/simulated-roads-accident-data/synthetic_road_accidents_{n}k.csv')\n",
    "    org.append(df)\n",
    "\n",
    "org = pd.concat(org, axis=0)\n",
    "org.head()"
   ]
  },
  {
   "cell_type": "code",
   "execution_count": 4,
   "id": "98a58915",
   "metadata": {
    "execution": {
     "iopub.execute_input": "2025-10-31T07:48:59.347432Z",
     "iopub.status.busy": "2025-10-31T07:48:59.346859Z",
     "iopub.status.idle": "2025-10-31T07:48:59.362443Z",
     "shell.execute_reply": "2025-10-31T07:48:59.361542Z"
    },
    "papermill": {
     "duration": 0.022107,
     "end_time": "2025-10-31T07:48:59.364180",
     "exception": false,
     "start_time": "2025-10-31T07:48:59.342073",
     "status": "completed"
    },
    "tags": []
   },
   "outputs": [],
   "source": [
    "train = pd.concat([train, org], axis=0, ignore_index=True)"
   ]
  },
  {
   "cell_type": "code",
   "execution_count": 5,
   "id": "f5cf1391",
   "metadata": {
    "execution": {
     "iopub.execute_input": "2025-10-31T07:48:59.377328Z",
     "iopub.status.busy": "2025-10-31T07:48:59.377064Z",
     "iopub.status.idle": "2025-10-31T07:48:59.455580Z",
     "shell.execute_reply": "2025-10-31T07:48:59.454957Z"
    },
    "papermill": {
     "duration": 0.084519,
     "end_time": "2025-10-31T07:48:59.456900",
     "exception": false,
     "start_time": "2025-10-31T07:48:59.372381",
     "status": "completed"
    },
    "tags": []
   },
   "outputs": [],
   "source": [
    "train = train.drop_duplicates()"
   ]
  },
  {
   "cell_type": "code",
   "execution_count": 6,
   "id": "5f5edf69",
   "metadata": {
    "execution": {
     "iopub.execute_input": "2025-10-31T07:48:59.465741Z",
     "iopub.status.busy": "2025-10-31T07:48:59.465490Z",
     "iopub.status.idle": "2025-10-31T07:48:59.480688Z",
     "shell.execute_reply": "2025-10-31T07:48:59.479986Z"
    },
    "papermill": {
     "duration": 0.020648,
     "end_time": "2025-10-31T07:48:59.481809",
     "exception": false,
     "start_time": "2025-10-31T07:48:59.461161",
     "status": "completed"
    },
    "tags": []
   },
   "outputs": [],
   "source": [
    "num_cols = test.select_dtypes(include=['float64', 'int64']).columns.to_list()\n",
    "cat_cols = test.select_dtypes(include='object').columns.to_list()"
   ]
  },
  {
   "cell_type": "code",
   "execution_count": 7,
   "id": "36146510",
   "metadata": {
    "execution": {
     "iopub.execute_input": "2025-10-31T07:48:59.490343Z",
     "iopub.status.busy": "2025-10-31T07:48:59.490022Z",
     "iopub.status.idle": "2025-10-31T07:48:59.686069Z",
     "shell.execute_reply": "2025-10-31T07:48:59.685277Z"
    },
    "papermill": {
     "duration": 0.201743,
     "end_time": "2025-10-31T07:48:59.687502",
     "exception": false,
     "start_time": "2025-10-31T07:48:59.485759",
     "status": "completed"
    },
    "tags": []
   },
   "outputs": [],
   "source": [
    "for col in num_cols:\n",
    "    if test[col].dtype == 'float64':\n",
    "        train[col] = train[col].astype('float32')\n",
    "        test[col] = test[col].astype('float32')\n",
    "        \n",
    "    else:\n",
    "        train[col] = train[col].astype('int32')\n",
    "        test[col] = test[col].astype('int32')\n",
    "\n",
    "for col in cat_cols:\n",
    "    train[col] = train[col].astype('category')\n",
    "    test[col] = test[col].astype('category')"
   ]
  },
  {
   "cell_type": "code",
   "execution_count": 8,
   "id": "2e14e07b",
   "metadata": {
    "execution": {
     "iopub.execute_input": "2025-10-31T07:48:59.696340Z",
     "iopub.status.busy": "2025-10-31T07:48:59.696111Z",
     "iopub.status.idle": "2025-10-31T07:48:59.699804Z",
     "shell.execute_reply": "2025-10-31T07:48:59.699106Z"
    },
    "papermill": {
     "duration": 0.009333,
     "end_time": "2025-10-31T07:48:59.700982",
     "exception": false,
     "start_time": "2025-10-31T07:48:59.691649",
     "status": "completed"
    },
    "tags": []
   },
   "outputs": [],
   "source": [
    "features = ['road_type', 'num_lanes', 'curv_bin', 'speed_limit', 'lighting',\n",
    "       'weather', 'road_signs_present', 'public_road', 'time_of_day',\n",
    "       'holiday', 'school_season', 'num_reported_accidents']\n",
    "\n",
    "target = 'accident_risk'"
   ]
  },
  {
   "cell_type": "markdown",
   "id": "9dab9e58",
   "metadata": {
    "papermill": {
     "duration": 0.003523,
     "end_time": "2025-10-31T07:48:59.708579",
     "exception": false,
     "start_time": "2025-10-31T07:48:59.705056",
     "status": "completed"
    },
    "tags": []
   },
   "source": [
    "# Feature Engineering"
   ]
  },
  {
   "cell_type": "code",
   "execution_count": 9,
   "id": "57122e8c",
   "metadata": {
    "execution": {
     "iopub.execute_input": "2025-10-31T07:48:59.716608Z",
     "iopub.status.busy": "2025-10-31T07:48:59.716381Z",
     "iopub.status.idle": "2025-10-31T07:48:59.727255Z",
     "shell.execute_reply": "2025-10-31T07:48:59.726566Z"
    },
    "papermill": {
     "duration": 0.01605,
     "end_time": "2025-10-31T07:48:59.728308",
     "exception": false,
     "start_time": "2025-10-31T07:48:59.712258",
     "status": "completed"
    },
    "tags": []
   },
   "outputs": [],
   "source": [
    "num_cols = test.select_dtypes(include=['float32', 'int32']).columns.to_list()\n",
    "cat_cols = test.select_dtypes(include='category').columns.to_list()"
   ]
  },
  {
   "cell_type": "markdown",
   "id": "cef4d1bd",
   "metadata": {
    "papermill": {
     "duration": 0.003574,
     "end_time": "2025-10-31T07:48:59.735966",
     "exception": false,
     "start_time": "2025-10-31T07:48:59.732392",
     "status": "completed"
    },
    "tags": []
   },
   "source": [
    "## Creating base risk feature based on domain knowledge"
   ]
  },
  {
   "cell_type": "code",
   "execution_count": 10,
   "id": "5b3aa9d7",
   "metadata": {
    "execution": {
     "iopub.execute_input": "2025-10-31T07:48:59.744573Z",
     "iopub.status.busy": "2025-10-31T07:48:59.744050Z",
     "iopub.status.idle": "2025-10-31T07:48:59.748382Z",
     "shell.execute_reply": "2025-10-31T07:48:59.747861Z"
    },
    "papermill": {
     "duration": 0.009645,
     "end_time": "2025-10-31T07:48:59.749387",
     "exception": false,
     "start_time": "2025-10-31T07:48:59.739742",
     "status": "completed"
    },
    "tags": []
   },
   "outputs": [],
   "source": [
    "def risk(df):\n",
    "    base_risk = (0.4 * df['curvature'] +\n",
    "                 0.2 * (df['lighting'] == 'night').astype(int) +\n",
    "                 0.1 * (df[\"weather\"] != \"clear\").astype(int) +\n",
    "                 0.2 * (df[\"speed_limit\"] >= 60).astype(int) +\n",
    "                 0.1 * (np.array(df[\"num_reported_accidents\"] > 4).astype(int)\n",
    "    ))\n",
    "                 \n",
    "    noise = np.random.normal(0, 0.05, df.shape[0])\n",
    "    risk_score = np.clip(base_risk + noise, 0, 1)\n",
    "    df[\"simulated_risk\"] = np.round(risk_score, 2).astype('float32')\n",
    "\n",
    "    return df"
   ]
  },
  {
   "cell_type": "code",
   "execution_count": 11,
   "id": "a5f6788f",
   "metadata": {
    "execution": {
     "iopub.execute_input": "2025-10-31T07:48:59.758143Z",
     "iopub.status.busy": "2025-10-31T07:48:59.757523Z",
     "iopub.status.idle": "2025-10-31T07:49:00.072894Z",
     "shell.execute_reply": "2025-10-31T07:49:00.072037Z"
    },
    "papermill": {
     "duration": 0.321205,
     "end_time": "2025-10-31T07:49:00.074423",
     "exception": false,
     "start_time": "2025-10-31T07:48:59.753218",
     "status": "completed"
    },
    "tags": []
   },
   "outputs": [],
   "source": [
    "train = risk(train)\n",
    "test = risk(test)"
   ]
  },
  {
   "cell_type": "code",
   "execution_count": 12,
   "id": "641f508c",
   "metadata": {
    "execution": {
     "iopub.execute_input": "2025-10-31T07:49:00.084936Z",
     "iopub.status.busy": "2025-10-31T07:49:00.084317Z",
     "iopub.status.idle": "2025-10-31T07:49:00.357178Z",
     "shell.execute_reply": "2025-10-31T07:49:00.356587Z"
    },
    "papermill": {
     "duration": 0.278782,
     "end_time": "2025-10-31T07:49:00.358286",
     "exception": false,
     "start_time": "2025-10-31T07:49:00.079504",
     "status": "completed"
    },
    "tags": []
   },
   "outputs": [
    {
     "name": "stdout",
     "output_type": "stream",
     "text": [
      "TE_road_type, TE_lighting, TE_weather, TE_time_of_day, "
     ]
    }
   ],
   "source": [
    "TE = []\n",
    "for c in cat_cols:\n",
    "    te_map = train.groupby(c)[target].mean()\n",
    "    n = f\"TE_{c}\"\n",
    "    print(f\"{n}, \",end=\"\")\n",
    " \n",
    "    train[n] = train[c].map(te_map)\n",
    "    test[n] = test[c].map(te_map)\n",
    "\n",
    "    global_mean = train[target].mean()\n",
    "    train[n].fillna(global_mean, inplace=True)\n",
    "    test[n].fillna(global_mean, inplace=True)\n",
    "    \n",
    "    TE.append(n)"
   ]
  },
  {
   "cell_type": "code",
   "execution_count": 13,
   "id": "4432fbf0",
   "metadata": {
    "execution": {
     "iopub.execute_input": "2025-10-31T07:49:00.367182Z",
     "iopub.status.busy": "2025-10-31T07:49:00.366773Z",
     "iopub.status.idle": "2025-10-31T07:49:01.134768Z",
     "shell.execute_reply": "2025-10-31T07:49:01.133976Z"
    },
    "papermill": {
     "duration": 0.773763,
     "end_time": "2025-10-31T07:49:01.136163",
     "exception": false,
     "start_time": "2025-10-31T07:49:00.362400",
     "status": "completed"
    },
    "tags": []
   },
   "outputs": [],
   "source": [
    "def feature_engineering(df):\n",
    "    \n",
    "    df['speed_visibility'] = df['speed_limit'] * df['lighting'].map({'daylight': 0.5, 'dim': 1.0, 'night': 1.5}).fillna(1.0)\n",
    "    df['curv_speed'] = df['curvature'] * df['speed_limit'] \n",
    "    df['curv_sq'] = df['curvature']**2\n",
    "    df['speed_sq'] = df['speed_limit']**2\n",
    "    df['curv_per_lane'] = df['curvature'] / (df['num_lanes'] + 1)\n",
    "    df['risk_density'] = df['curv_speed'] / (df['num_lanes'] + 1)\n",
    "    df['curve_night_risk'] = df['curvature'] * (df['lighting'] == 'night').astype('int32')\n",
    "    df['curv_log'] = np.log1p(df['curvature'])\n",
    "    df['speed_log'] = np.log1p(df['speed_limit'])\n",
    "    df['meta_curvature'] = 0.3 * df['curvature']\n",
    "    df['meta_night'] = 0.2 * (df['lighting'] == 'night').astype('int32')\n",
    "    df['meta_weather'] = 0.1 * (df['weather'] != 'clear').astype('int32')\n",
    "    df['meta_speed'] = 0.2 * (df['speed_limit'] >= 60).astype('int32')\n",
    "    df['meta_accidents'] = 0.1 * (df['num_reported_accidents'] > 2).astype('int32')\n",
    "\n",
    "    df['tight_lane'] = (df['num_lanes'] <= 2).astype(int)\n",
    "   \n",
    "    return df\n",
    "\n",
    "train = feature_engineering(train)\n",
    "test = feature_engineering(test)"
   ]
  },
  {
   "cell_type": "code",
   "execution_count": 14,
   "id": "45496491",
   "metadata": {
    "execution": {
     "iopub.execute_input": "2025-10-31T07:49:01.144839Z",
     "iopub.status.busy": "2025-10-31T07:49:01.144607Z",
     "iopub.status.idle": "2025-10-31T07:49:01.193802Z",
     "shell.execute_reply": "2025-10-31T07:49:01.193023Z"
    },
    "papermill": {
     "duration": 0.054891,
     "end_time": "2025-10-31T07:49:01.195073",
     "exception": false,
     "start_time": "2025-10-31T07:49:01.140182",
     "status": "completed"
    },
    "tags": []
   },
   "outputs": [],
   "source": [
    "for c in cat_cols:\n",
    "    train[c] = pd.Categorical(train[c]).codes\n",
    "    test[c] = pd.Categorical(test[c]).codes"
   ]
  },
  {
   "cell_type": "code",
   "execution_count": 15,
   "id": "f4d9c150",
   "metadata": {
    "execution": {
     "iopub.execute_input": "2025-10-31T07:49:01.204904Z",
     "iopub.status.busy": "2025-10-31T07:49:01.204229Z",
     "iopub.status.idle": "2025-10-31T07:49:01.265710Z",
     "shell.execute_reply": "2025-10-31T07:49:01.265053Z"
    },
    "papermill": {
     "duration": 0.067208,
     "end_time": "2025-10-31T07:49:01.266781",
     "exception": false,
     "start_time": "2025-10-31T07:49:01.199573",
     "status": "completed"
    },
    "tags": []
   },
   "outputs": [
    {
     "data": {
      "text/html": [
       "<div>\n",
       "<style scoped>\n",
       "    .dataframe tbody tr th:only-of-type {\n",
       "        vertical-align: middle;\n",
       "    }\n",
       "\n",
       "    .dataframe tbody tr th {\n",
       "        vertical-align: top;\n",
       "    }\n",
       "\n",
       "    .dataframe thead th {\n",
       "        text-align: right;\n",
       "    }\n",
       "</style>\n",
       "<table border=\"1\" class=\"dataframe\">\n",
       "  <thead>\n",
       "    <tr style=\"text-align: right;\">\n",
       "      <th></th>\n",
       "      <th>road_type</th>\n",
       "      <th>num_lanes</th>\n",
       "      <th>curvature</th>\n",
       "      <th>speed_limit</th>\n",
       "      <th>lighting</th>\n",
       "      <th>weather</th>\n",
       "      <th>road_signs_present</th>\n",
       "      <th>public_road</th>\n",
       "      <th>time_of_day</th>\n",
       "      <th>holiday</th>\n",
       "      <th>...</th>\n",
       "      <th>risk_density</th>\n",
       "      <th>curve_night_risk</th>\n",
       "      <th>curv_log</th>\n",
       "      <th>speed_log</th>\n",
       "      <th>meta_curvature</th>\n",
       "      <th>meta_night</th>\n",
       "      <th>meta_weather</th>\n",
       "      <th>meta_speed</th>\n",
       "      <th>meta_accidents</th>\n",
       "      <th>tight_lane</th>\n",
       "    </tr>\n",
       "  </thead>\n",
       "  <tbody>\n",
       "    <tr>\n",
       "      <th>0</th>\n",
       "      <td>2</td>\n",
       "      <td>2</td>\n",
       "      <td>0.06</td>\n",
       "      <td>35</td>\n",
       "      <td>0</td>\n",
       "      <td>2</td>\n",
       "      <td>False</td>\n",
       "      <td>True</td>\n",
       "      <td>0</td>\n",
       "      <td>False</td>\n",
       "      <td>...</td>\n",
       "      <td>0.700000</td>\n",
       "      <td>0.0</td>\n",
       "      <td>0.058269</td>\n",
       "      <td>3.583519</td>\n",
       "      <td>0.018</td>\n",
       "      <td>0.0</td>\n",
       "      <td>0.1</td>\n",
       "      <td>0.0</td>\n",
       "      <td>0.0</td>\n",
       "      <td>1</td>\n",
       "    </tr>\n",
       "    <tr>\n",
       "      <th>1</th>\n",
       "      <td>2</td>\n",
       "      <td>4</td>\n",
       "      <td>0.99</td>\n",
       "      <td>35</td>\n",
       "      <td>0</td>\n",
       "      <td>0</td>\n",
       "      <td>True</td>\n",
       "      <td>False</td>\n",
       "      <td>1</td>\n",
       "      <td>True</td>\n",
       "      <td>...</td>\n",
       "      <td>6.930000</td>\n",
       "      <td>0.0</td>\n",
       "      <td>0.688135</td>\n",
       "      <td>3.583519</td>\n",
       "      <td>0.297</td>\n",
       "      <td>0.0</td>\n",
       "      <td>0.0</td>\n",
       "      <td>0.0</td>\n",
       "      <td>0.0</td>\n",
       "      <td>0</td>\n",
       "    </tr>\n",
       "    <tr>\n",
       "      <th>2</th>\n",
       "      <td>1</td>\n",
       "      <td>4</td>\n",
       "      <td>0.63</td>\n",
       "      <td>70</td>\n",
       "      <td>1</td>\n",
       "      <td>0</td>\n",
       "      <td>False</td>\n",
       "      <td>True</td>\n",
       "      <td>2</td>\n",
       "      <td>True</td>\n",
       "      <td>...</td>\n",
       "      <td>8.820000</td>\n",
       "      <td>0.0</td>\n",
       "      <td>0.488580</td>\n",
       "      <td>4.262680</td>\n",
       "      <td>0.189</td>\n",
       "      <td>0.0</td>\n",
       "      <td>0.0</td>\n",
       "      <td>0.2</td>\n",
       "      <td>0.0</td>\n",
       "      <td>0</td>\n",
       "    </tr>\n",
       "    <tr>\n",
       "      <th>3</th>\n",
       "      <td>0</td>\n",
       "      <td>4</td>\n",
       "      <td>0.07</td>\n",
       "      <td>35</td>\n",
       "      <td>1</td>\n",
       "      <td>2</td>\n",
       "      <td>True</td>\n",
       "      <td>True</td>\n",
       "      <td>2</td>\n",
       "      <td>False</td>\n",
       "      <td>...</td>\n",
       "      <td>0.490000</td>\n",
       "      <td>0.0</td>\n",
       "      <td>0.067659</td>\n",
       "      <td>3.583519</td>\n",
       "      <td>0.021</td>\n",
       "      <td>0.0</td>\n",
       "      <td>0.1</td>\n",
       "      <td>0.0</td>\n",
       "      <td>0.0</td>\n",
       "      <td>0</td>\n",
       "    </tr>\n",
       "    <tr>\n",
       "      <th>4</th>\n",
       "      <td>1</td>\n",
       "      <td>1</td>\n",
       "      <td>0.58</td>\n",
       "      <td>60</td>\n",
       "      <td>0</td>\n",
       "      <td>1</td>\n",
       "      <td>False</td>\n",
       "      <td>False</td>\n",
       "      <td>1</td>\n",
       "      <td>True</td>\n",
       "      <td>...</td>\n",
       "      <td>17.399999</td>\n",
       "      <td>0.0</td>\n",
       "      <td>0.457425</td>\n",
       "      <td>4.110874</td>\n",
       "      <td>0.174</td>\n",
       "      <td>0.0</td>\n",
       "      <td>0.1</td>\n",
       "      <td>0.2</td>\n",
       "      <td>0.0</td>\n",
       "      <td>1</td>\n",
       "    </tr>\n",
       "  </tbody>\n",
       "</table>\n",
       "<p>5 rows × 33 columns</p>\n",
       "</div>"
      ],
      "text/plain": [
       "   road_type  num_lanes  curvature  speed_limit  lighting  weather  \\\n",
       "0          2          2       0.06           35         0        2   \n",
       "1          2          4       0.99           35         0        0   \n",
       "2          1          4       0.63           70         1        0   \n",
       "3          0          4       0.07           35         1        2   \n",
       "4          1          1       0.58           60         0        1   \n",
       "\n",
       "   road_signs_present  public_road  time_of_day  holiday  ...  risk_density  \\\n",
       "0               False         True            0    False  ...      0.700000   \n",
       "1                True        False            1     True  ...      6.930000   \n",
       "2               False         True            2     True  ...      8.820000   \n",
       "3                True         True            2    False  ...      0.490000   \n",
       "4               False        False            1     True  ...     17.399999   \n",
       "\n",
       "   curve_night_risk  curv_log  speed_log  meta_curvature  meta_night  \\\n",
       "0               0.0  0.058269   3.583519           0.018         0.0   \n",
       "1               0.0  0.688135   3.583519           0.297         0.0   \n",
       "2               0.0  0.488580   4.262680           0.189         0.0   \n",
       "3               0.0  0.067659   3.583519           0.021         0.0   \n",
       "4               0.0  0.457425   4.110874           0.174         0.0   \n",
       "\n",
       "   meta_weather  meta_speed  meta_accidents  tight_lane  \n",
       "0           0.1         0.0             0.0           1  \n",
       "1           0.0         0.0             0.0           0  \n",
       "2           0.0         0.2             0.0           0  \n",
       "3           0.1         0.0             0.0           0  \n",
       "4           0.1         0.2             0.0           1  \n",
       "\n",
       "[5 rows x 33 columns]"
      ]
     },
     "execution_count": 15,
     "metadata": {},
     "output_type": "execute_result"
    }
   ],
   "source": [
    "train.head()"
   ]
  },
  {
   "cell_type": "code",
   "execution_count": 16,
   "id": "4c3a7d74",
   "metadata": {
    "execution": {
     "iopub.execute_input": "2025-10-31T07:49:01.275813Z",
     "iopub.status.busy": "2025-10-31T07:49:01.275589Z",
     "iopub.status.idle": "2025-10-31T07:49:01.317180Z",
     "shell.execute_reply": "2025-10-31T07:49:01.316312Z"
    },
    "papermill": {
     "duration": 0.047369,
     "end_time": "2025-10-31T07:49:01.318289",
     "exception": false,
     "start_time": "2025-10-31T07:49:01.270920",
     "status": "completed"
    },
    "tags": []
   },
   "outputs": [
    {
     "name": "stdout",
     "output_type": "stream",
     "text": [
      "<class 'cudf.core.dataframe.DataFrame'>\n",
      "Index: 629059 entries, 0 to 629753\n",
      "Data columns (total 33 columns):\n",
      " #   Column                  Non-Null Count   Dtype\n",
      "---  ------                  --------------   -----\n",
      " 0   road_type               629059 non-null  int8\n",
      " 1   num_lanes               629059 non-null  int32\n",
      " 2   curvature               629059 non-null  float32\n",
      " 3   speed_limit             629059 non-null  int32\n",
      " 4   lighting                629059 non-null  int8\n",
      " 5   weather                 629059 non-null  int8\n",
      " 6   road_signs_present      629059 non-null  bool\n",
      " 7   public_road             629059 non-null  bool\n",
      " 8   time_of_day             629059 non-null  int8\n",
      " 9   holiday                 629059 non-null  bool\n",
      " 10  school_season           629059 non-null  bool\n",
      " 11  num_reported_accidents  629059 non-null  int32\n",
      " 12  accident_risk           629059 non-null  float64\n",
      " 13  simulated_risk          629059 non-null  float32\n",
      " 14  TE_road_type            629059 non-null  float64\n",
      " 15  TE_lighting             629059 non-null  float64\n",
      " 16  TE_weather              629059 non-null  float64\n",
      " 17  TE_time_of_day          629059 non-null  float64\n",
      " 18  speed_visibility        629059 non-null  float64\n",
      " 19  curv_speed              629059 non-null  float64\n",
      " 20  curv_sq                 629059 non-null  float32\n",
      " 21  speed_sq                629059 non-null  int32\n",
      " 22  curv_per_lane           629059 non-null  float64\n",
      " 23  risk_density            629059 non-null  float64\n",
      " 24  curve_night_risk        629059 non-null  float64\n",
      " 25  curv_log                629059 non-null  float32\n",
      " 26  speed_log               629059 non-null  float64\n",
      " 27  meta_curvature          629059 non-null  float32\n",
      " 28  meta_night              629059 non-null  float64\n",
      " 29  meta_weather            629059 non-null  float64\n",
      " 30  meta_speed              629059 non-null  float64\n",
      " 31  meta_accidents          629059 non-null  float64\n",
      " 32  tight_lane              629059 non-null  int64\n",
      "dtypes: bool(4), float32(5), float64(15), int32(4), int64(1), int8(4)\n",
      "memory usage: 108.0 MB\n"
     ]
    }
   ],
   "source": [
    "train.info()"
   ]
  },
  {
   "cell_type": "markdown",
   "id": "568416ad",
   "metadata": {
    "papermill": {
     "duration": 0.003878,
     "end_time": "2025-10-31T07:49:01.326521",
     "exception": false,
     "start_time": "2025-10-31T07:49:01.322643",
     "status": "completed"
    },
    "tags": []
   },
   "source": [
    "# Splitting the data into training and testing sets"
   ]
  },
  {
   "cell_type": "code",
   "execution_count": 17,
   "id": "3f62fe86",
   "metadata": {
    "execution": {
     "iopub.execute_input": "2025-10-31T07:49:01.335246Z",
     "iopub.status.busy": "2025-10-31T07:49:01.335041Z",
     "iopub.status.idle": "2025-10-31T07:49:01.349134Z",
     "shell.execute_reply": "2025-10-31T07:49:01.348424Z"
    },
    "papermill": {
     "duration": 0.019739,
     "end_time": "2025-10-31T07:49:01.350242",
     "exception": false,
     "start_time": "2025-10-31T07:49:01.330503",
     "status": "completed"
    },
    "tags": []
   },
   "outputs": [],
   "source": [
    "X = train.copy()\n",
    "y = X.pop('accident_risk')\n",
    "X_test = test.copy()"
   ]
  },
  {
   "cell_type": "markdown",
   "id": "67b8a533",
   "metadata": {
    "papermill": {
     "duration": 0.004029,
     "end_time": "2025-10-31T07:49:01.358435",
     "exception": false,
     "start_time": "2025-10-31T07:49:01.354406",
     "status": "completed"
    },
    "tags": []
   },
   "source": [
    "# Conducting optuna study\n"
   ]
  },
  {
   "cell_type": "code",
   "execution_count": 18,
   "id": "b975e8fc",
   "metadata": {
    "execution": {
     "iopub.execute_input": "2025-10-31T07:49:01.367347Z",
     "iopub.status.busy": "2025-10-31T07:49:01.366882Z",
     "iopub.status.idle": "2025-10-31T07:49:01.369961Z",
     "shell.execute_reply": "2025-10-31T07:49:01.369436Z"
    },
    "papermill": {
     "duration": 0.008669,
     "end_time": "2025-10-31T07:49:01.371023",
     "exception": false,
     "start_time": "2025-10-31T07:49:01.362354",
     "status": "completed"
    },
    "tags": []
   },
   "outputs": [],
   "source": [
    "kf = KFold(n_splits=5, shuffle=True, random_state=2)\n",
    "n_folds = 5"
   ]
  },
  {
   "cell_type": "code",
   "execution_count": 19,
   "id": "ac2b1dce",
   "metadata": {
    "execution": {
     "iopub.execute_input": "2025-10-31T07:49:01.380381Z",
     "iopub.status.busy": "2025-10-31T07:49:01.379866Z",
     "iopub.status.idle": "2025-10-31T07:49:01.386574Z",
     "shell.execute_reply": "2025-10-31T07:49:01.386031Z"
    },
    "papermill": {
     "duration": 0.012293,
     "end_time": "2025-10-31T07:49:01.387529",
     "exception": false,
     "start_time": "2025-10-31T07:49:01.375236",
     "status": "completed"
    },
    "tags": []
   },
   "outputs": [],
   "source": [
    "# Parameters acquired from Optuna study\n",
    "\n",
    "xgb_param = {\n",
    "    'n_estimators': 1100,\n",
    "    'learning_rate': 0.05036086563157658,\n",
    "    'max_depth': 5,\n",
    "    'reg_alpha': 1.7078790750979551, \n",
    "    'reg_lambda': 0.04303317633957419,\n",
    "    'subsample': 0.6010146163838317,\n",
    "    'colsample_bytree': 0.8088494830103302,\n",
    "    'eval_metric': 'rmse',\n",
    "    'random_state':2, \n",
    "    'early_stopping_rounds': 100,\n",
    "    'device': 'cuda',\n",
    "    'objective': 'reg:squarederror',\n",
    "}\n",
    "\n",
    "cat_param = {\n",
    "    'iterations': 1000,\n",
    "    'learning_rate': 0.08462849871988642,\n",
    "    'depth': 7,\n",
    "    'l2_leaf_reg': 2.1397487441799643,\n",
    "    \"loss_function\": \"RMSE\",\n",
    "    'eval_metric': 'RMSE',\n",
    "    'task_type':'GPU', \n",
    "    'random_state': 2,\n",
    "    'early_stopping_rounds': 100,\n",
    "    'verbose': 0,\n",
    "}\n",
    "\n",
    "lgbm_param = {\n",
    "    \"objective\": \"regression\",\n",
    "    \"metric\": \"rmse\",\n",
    "    \"learning_rate\": 0.015047232662609947,\n",
    "    \"num_leaves\": 124,\n",
    "    \"bagging_fraction\": 0.6338824787124612,\n",
    "    \"reg_alpha\": 0.2869136891325499,\n",
    "    \"reg_lambda\": 2.4855353033908525,\n",
    "    \"max_depth\": 9,\n",
    "    \"n_estimators\": 908,\n",
    "    'min_data_in_leaf': 70,\n",
    "    \"device_type\": \"gpu\",\n",
    "    \"random_state\": 2,\n",
    "    'verbose': -1,\n",
    "    'n_jobs': -1,\n",
    "}\n",
    "\n",
    "xgb = XGBRegressor(**xgb_param)\n",
    "cat = CatBoostRegressor(**cat_param)\n",
    "lgbm = LGBMRegressor(**lgbm_param)"
   ]
  },
  {
   "cell_type": "code",
   "execution_count": 20,
   "id": "6ab1019b",
   "metadata": {
    "execution": {
     "iopub.execute_input": "2025-10-31T07:49:01.396291Z",
     "iopub.status.busy": "2025-10-31T07:49:01.396097Z",
     "iopub.status.idle": "2025-10-31T07:49:01.399837Z",
     "shell.execute_reply": "2025-10-31T07:49:01.399289Z"
    },
    "papermill": {
     "duration": 0.00928,
     "end_time": "2025-10-31T07:49:01.400899",
     "exception": false,
     "start_time": "2025-10-31T07:49:01.391619",
     "status": "completed"
    },
    "tags": []
   },
   "outputs": [],
   "source": [
    "meta_train = np.zeros((len(y), 3))\n",
    "meta_test = np.zeros((len(X_test), 3))"
   ]
  },
  {
   "cell_type": "code",
   "execution_count": 21,
   "id": "636b9e9b",
   "metadata": {
    "execution": {
     "iopub.execute_input": "2025-10-31T07:49:01.409828Z",
     "iopub.status.busy": "2025-10-31T07:49:01.409624Z",
     "iopub.status.idle": "2025-10-31T07:54:16.565156Z",
     "shell.execute_reply": "2025-10-31T07:54:16.564378Z"
    },
    "papermill": {
     "duration": 315.163637,
     "end_time": "2025-10-31T07:54:16.568714",
     "exception": false,
     "start_time": "2025-10-31T07:49:01.405077",
     "status": "completed"
    },
    "tags": []
   },
   "outputs": [
    {
     "name": "stderr",
     "output_type": "stream",
     "text": [
      "1 warning generated.\n",
      "1 warning generated.\n",
      "1 warning generated.\n",
      "1 warning generated.\n",
      "1 warning generated.\n",
      "1 warning generated.\n",
      "1 warning generated.\n",
      "1 warning generated.\n",
      "1 warning generated.\n",
      "1 warning generated.\n",
      "1 warning generated.\n",
      "1 warning generated.\n",
      "1 warning generated.\n",
      "1 warning generated.\n",
      "1 warning generated.\n",
      "1 warning generated.\n",
      "1 warning generated.\n",
      "1 warning generated.\n",
      "1 warning generated.\n",
      "1 warning generated.\n",
      "1 warning generated.\n",
      "1 warning generated.\n",
      "1 warning generated.\n",
      "1 warning generated.\n",
      "1 warning generated.\n",
      "1 warning generated.\n",
      "1 warning generated.\n",
      "1 warning generated.\n",
      "1 warning generated.\n",
      "1 warning generated.\n",
      "1 warning generated.\n",
      "1 warning generated.\n",
      "1 warning generated.\n"
     ]
    },
    {
     "name": "stdout",
     "output_type": "stream",
     "text": [
      "Training until validation scores don't improve for 100 rounds\n",
      "Did not meet early stopping. Best iteration is:\n",
      "[908]\tvalid_0's rmse: 0.056177\n"
     ]
    },
    {
     "name": "stderr",
     "output_type": "stream",
     "text": [
      "/usr/local/lib/python3.11/dist-packages/xgboost/core.py:160: UserWarning: [07:49:57] WARNING: /workspace/src/common/error_msg.cc:58: Falling back to prediction using DMatrix due to mismatched devices. This might lead to higher memory usage and slower performance. XGBoost is running on: cuda:0, while the input data is on: cpu.\n",
      "Potential solutions:\n",
      "- Use a data structure that matches the device ordinal in the booster.\n",
      "- Set the device for booster before call to inplace_predict.\n",
      "\n",
      "This warning will only be shown once.\n",
      "\n",
      "  warnings.warn(smsg, UserWarning)\n"
     ]
    },
    {
     "name": "stdout",
     "output_type": "stream",
     "text": [
      "Training until validation scores don't improve for 100 rounds\n",
      "Did not meet early stopping. Best iteration is:\n",
      "[908]\tvalid_0's rmse: 0.0559871\n",
      "Training until validation scores don't improve for 100 rounds\n",
      "Did not meet early stopping. Best iteration is:\n",
      "[907]\tvalid_0's rmse: 0.0559819\n",
      "Training until validation scores don't improve for 100 rounds\n",
      "Did not meet early stopping. Best iteration is:\n",
      "[908]\tvalid_0's rmse: 0.0563029\n",
      "Training until validation scores don't improve for 100 rounds\n",
      "Did not meet early stopping. Best iteration is:\n",
      "[908]\tvalid_0's rmse: 0.0562506\n"
     ]
    }
   ],
   "source": [
    "for fold, (train_index, valid_index) in enumerate(kf.split(X, y), start=1):\n",
    "    X_train, X_valid = X.iloc[train_index], X.iloc[valid_index]\n",
    "    y_train, y_valid = y.iloc[train_index], y.iloc[valid_index]\n",
    "\n",
    "    xgb.fit(X_train, y_train, eval_set=[(X_valid, y_valid)], verbose=0)\n",
    "    cat.fit(X_train, y_train, eval_set=[(X_valid, y_valid)])\n",
    "    lgbm.fit(X_train, y_train, eval_set=[(X_valid, y_valid)], callbacks=[early_stopping(100), log_evaluation(period=0)])\n",
    "        \n",
    "    meta_train[valid_index, 0] = xgb.predict(X_valid)\n",
    "    meta_train[valid_index, 1] = cat.predict(X_valid)\n",
    "    meta_train[valid_index, 2] = lgbm.predict(X_valid)\n",
    "\n",
    "    meta_test[:, 0] += xgb.predict(X_test) / n_folds\n",
    "    meta_test[:, 1] += cat.predict(X_test) / n_folds\n",
    "    meta_test[:, 2] += lgbm.predict(X_test) / n_folds\n",
    "\n",
    "meta_model = BayesianRidge(n_iter=2000).fit(meta_train, y)\n",
    "test_preds = meta_model.predict(meta_test)    "
   ]
  },
  {
   "cell_type": "code",
   "execution_count": 22,
   "id": "9d7a79cb",
   "metadata": {
    "execution": {
     "iopub.execute_input": "2025-10-31T07:54:16.589812Z",
     "iopub.status.busy": "2025-10-31T07:54:16.589444Z",
     "iopub.status.idle": "2025-10-31T07:54:16.659881Z",
     "shell.execute_reply": "2025-10-31T07:54:16.659366Z"
    },
    "papermill": {
     "duration": 0.081175,
     "end_time": "2025-10-31T07:54:16.661084",
     "exception": false,
     "start_time": "2025-10-31T07:54:16.579909",
     "status": "completed"
    },
    "tags": []
   },
   "outputs": [
    {
     "name": "stdout",
     "output_type": "stream",
     "text": [
      "\n",
      "==================================================\n",
      "Stacking Model OOF RMSE: 0.05599\n",
      "==================================================\n"
     ]
    }
   ],
   "source": [
    "oof_predictions = meta_model.predict(meta_train)\n",
    "\n",
    "# Calculate overall RMSE\n",
    "stacking_rmse = np.sqrt(mean_squared_error(y, oof_predictions))\n",
    "print(f\"\\n{'='*50}\")\n",
    "print(f\"Stacking Model OOF RMSE: {stacking_rmse:.5f}\")\n",
    "print(f\"{'='*50}\")"
   ]
  },
  {
   "cell_type": "code",
   "execution_count": 23,
   "id": "be4dcd30",
   "metadata": {
    "execution": {
     "iopub.execute_input": "2025-10-31T07:54:16.672510Z",
     "iopub.status.busy": "2025-10-31T07:54:16.672311Z",
     "iopub.status.idle": "2025-10-31T07:54:16.738620Z",
     "shell.execute_reply": "2025-10-31T07:54:16.737808Z"
    },
    "papermill": {
     "duration": 0.07328,
     "end_time": "2025-10-31T07:54:16.739773",
     "exception": false,
     "start_time": "2025-10-31T07:54:16.666493",
     "status": "completed"
    },
    "tags": []
   },
   "outputs": [
    {
     "data": {
      "text/html": [
       "<div>\n",
       "<style scoped>\n",
       "    .dataframe tbody tr th:only-of-type {\n",
       "        vertical-align: middle;\n",
       "    }\n",
       "\n",
       "    .dataframe tbody tr th {\n",
       "        vertical-align: top;\n",
       "    }\n",
       "\n",
       "    .dataframe thead th {\n",
       "        text-align: right;\n",
       "    }\n",
       "</style>\n",
       "<table border=\"1\" class=\"dataframe\">\n",
       "  <thead>\n",
       "    <tr style=\"text-align: right;\">\n",
       "      <th></th>\n",
       "      <th>id</th>\n",
       "      <th>accident_risk</th>\n",
       "    </tr>\n",
       "  </thead>\n",
       "  <tbody>\n",
       "    <tr>\n",
       "      <th>0</th>\n",
       "      <td>517754</td>\n",
       "      <td>0.295464</td>\n",
       "    </tr>\n",
       "    <tr>\n",
       "      <th>1</th>\n",
       "      <td>517755</td>\n",
       "      <td>0.119579</td>\n",
       "    </tr>\n",
       "    <tr>\n",
       "      <th>2</th>\n",
       "      <td>517756</td>\n",
       "      <td>0.193463</td>\n",
       "    </tr>\n",
       "    <tr>\n",
       "      <th>3</th>\n",
       "      <td>517757</td>\n",
       "      <td>0.341217</td>\n",
       "    </tr>\n",
       "    <tr>\n",
       "      <th>4</th>\n",
       "      <td>517758</td>\n",
       "      <td>0.381808</td>\n",
       "    </tr>\n",
       "  </tbody>\n",
       "</table>\n",
       "</div>"
      ],
      "text/plain": [
       "       id  accident_risk\n",
       "0  517754       0.295464\n",
       "1  517755       0.119579\n",
       "2  517756       0.193463\n",
       "3  517757       0.341217\n",
       "4  517758       0.381808"
      ]
     },
     "execution_count": 23,
     "metadata": {},
     "output_type": "execute_result"
    }
   ],
   "source": [
    "sub = pd.read_csv('/kaggle/input/playground-series-s5e10/sample_submission.csv')\n",
    "sub['accident_risk'] = test_preds\n",
    "sub.to_csv('submission.csv', index=False)\n",
    "sub.head()"
   ]
  }
 ],
 "metadata": {
  "kaggle": {
   "accelerator": "nvidiaTeslaT4",
   "dataSources": [
    {
     "databundleVersionId": 13760552,
     "sourceId": 91721,
     "sourceType": "competition"
    },
    {
     "datasetId": 7797612,
     "sourceId": 12367739,
     "sourceType": "datasetVersion"
    }
   ],
   "dockerImageVersionId": 31154,
   "isGpuEnabled": true,
   "isInternetEnabled": true,
   "language": "python",
   "sourceType": "notebook"
  },
  "kernelspec": {
   "display_name": "Python 3",
   "language": "python",
   "name": "python3"
  },
  "language_info": {
   "codemirror_mode": {
    "name": "ipython",
    "version": 3
   },
   "file_extension": ".py",
   "mimetype": "text/x-python",
   "name": "python",
   "nbconvert_exporter": "python",
   "pygments_lexer": "ipython3",
   "version": "3.11.13"
  },
  "papermill": {
   "default_parameters": {},
   "duration": 335.090169,
   "end_time": "2025-10-31T07:54:18.980349",
   "environment_variables": {},
   "exception": null,
   "input_path": "__notebook__.ipynb",
   "output_path": "__notebook__.ipynb",
   "parameters": {},
   "start_time": "2025-10-31T07:48:43.890180",
   "version": "2.6.0"
  }
 },
 "nbformat": 4,
 "nbformat_minor": 5
}
