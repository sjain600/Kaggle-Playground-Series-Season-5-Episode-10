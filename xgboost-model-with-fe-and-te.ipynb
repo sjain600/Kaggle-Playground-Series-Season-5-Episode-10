{
 "cells": [
  {
   "cell_type": "markdown",
   "id": "cdeb7ba5",
   "metadata": {
    "papermill": {
     "duration": 0.004074,
     "end_time": "2025-10-30T05:14:12.465172",
     "exception": false,
     "start_time": "2025-10-30T05:14:12.461098",
     "status": "completed"
    },
    "tags": []
   },
   "source": [
    "### Few changes made in this notebook:\n",
    "- Added original dataset\n",
    "- Added simulated accident risk feature\n",
    "- Added target encoding\n",
    "- Decrease the size of dataset"
   ]
  },
  {
   "cell_type": "code",
   "execution_count": 1,
   "id": "15d9ed3f",
   "metadata": {
    "_cell_guid": "b1076dfc-b9ad-4769-8c92-a6c4dae69d19",
    "_uuid": "8f2839f25d086af736a60e9eeb907d3b93b6e0e5",
    "execution": {
     "iopub.execute_input": "2025-10-30T05:14:12.472813Z",
     "iopub.status.busy": "2025-10-30T05:14:12.472609Z",
     "iopub.status.idle": "2025-10-30T05:14:28.297476Z",
     "shell.execute_reply": "2025-10-30T05:14:28.296624Z"
    },
    "papermill": {
     "duration": 15.830118,
     "end_time": "2025-10-30T05:14:28.298890",
     "exception": false,
     "start_time": "2025-10-30T05:14:12.468772",
     "status": "completed"
    },
    "tags": []
   },
   "outputs": [
    {
     "name": "stdout",
     "output_type": "stream",
     "text": [
      "/kaggle/input/playground-series-s5e10/sample_submission.csv\n",
      "/kaggle/input/playground-series-s5e10/train.csv\n",
      "/kaggle/input/playground-series-s5e10/test.csv\n",
      "/kaggle/input/simulated-roads-accident-data/synthetic_road_accidents_10k.csv\n",
      "/kaggle/input/simulated-roads-accident-data/synthetic_road_accidents_2k.csv\n",
      "/kaggle/input/simulated-roads-accident-data/synthetic_road_accidents_100k.csv\n"
     ]
    }
   ],
   "source": [
    "# This Python 3 environment comes with many helpful analytics libraries installed\n",
    "# It is defined by the kaggle/python Docker image: https://github.com/kaggle/docker-python\n",
    "# For example, here's several helpful packages to load\n",
    "%load_ext cudf.pandas\n",
    "import numpy as np # linear algebra\n",
    "import pandas as pd # data processing, CSV file I/O (e.g. pd.read_csv)\n",
    "import matplotlib.pyplot as plt\n",
    "import seaborn as sns\n",
    "from sklearn.preprocessing import StandardScaler, LabelEncoder, PolynomialFeatures, OneHotEncoder\n",
    "from sklearn.model_selection import train_test_split, KFold, GridSearchCV, cross_val_score\n",
    "from sklearn.impute import SimpleImputer\n",
    "\n",
    "from sklearn.metrics import explained_variance_score, mean_absolute_error, mean_squared_error, r2_score\n",
    "from xgboost import XGBRegressor\n",
    "from sklearn.compose import TransformedTargetRegressor, ColumnTransformer\n",
    "from scipy.special import logit, expit\n",
    "\n",
    "%matplotlib inline\n",
    "plt.style.use('seaborn-v0_8')\n",
    "plt.rc('figure', figsize=(10,6), dpi=180)\n",
    "plt.rc('axes', labelweight='bold', labelsize='large',\n",
    "       titleweight='bold', titlesize=15, titlepad=10)\n",
    "plt.rc('animation', html='html5')\n",
    "\n",
    "import warnings\n",
    "\n",
    "warnings.filterwarnings(\"ignore\", category=FutureWarning)\n",
    "\n",
    "# Input data files are available in the read-only \"../input/\" directory\n",
    "# For example, running this (by clicking run or pressing Shift+Enter) will list all files under the input directory\n",
    "\n",
    "import os\n",
    "for dirname, _, filenames in os.walk('/kaggle/input'):\n",
    "    for filename in filenames:\n",
    "        print(os.path.join(dirname, filename))\n",
    "\n",
    "# You can write up to 20GB to the current directory (/kaggle/working/) that gets preserved as output when you create a version using \"Save & Run All\" \n",
    "# You can also write temporary files to /kaggle/temp/, but they won't be saved outside of the current session"
   ]
  },
  {
   "cell_type": "code",
   "execution_count": 2,
   "id": "4b9967e1",
   "metadata": {
    "execution": {
     "iopub.execute_input": "2025-10-30T05:14:28.306890Z",
     "iopub.status.busy": "2025-10-30T05:14:28.306446Z",
     "iopub.status.idle": "2025-10-30T05:14:29.125842Z",
     "shell.execute_reply": "2025-10-30T05:14:29.125253Z"
    },
    "papermill": {
     "duration": 0.824654,
     "end_time": "2025-10-30T05:14:29.127195",
     "exception": false,
     "start_time": "2025-10-30T05:14:28.302541",
     "status": "completed"
    },
    "tags": []
   },
   "outputs": [],
   "source": [
    "train = pd.read_csv('/kaggle/input/playground-series-s5e10/train.csv', index_col='id')\n",
    "test = pd.read_csv('/kaggle/input/playground-series-s5e10/test.csv', index_col='id')"
   ]
  },
  {
   "cell_type": "code",
   "execution_count": 3,
   "id": "b3a66a95",
   "metadata": {
    "execution": {
     "iopub.execute_input": "2025-10-30T05:14:29.135487Z",
     "iopub.status.busy": "2025-10-30T05:14:29.134942Z",
     "iopub.status.idle": "2025-10-30T05:14:29.430031Z",
     "shell.execute_reply": "2025-10-30T05:14:29.429145Z"
    },
    "papermill": {
     "duration": 0.30044,
     "end_time": "2025-10-30T05:14:29.431420",
     "exception": false,
     "start_time": "2025-10-30T05:14:29.130980",
     "status": "completed"
    },
    "tags": []
   },
   "outputs": [
    {
     "data": {
      "text/html": [
       "<div>\n",
       "<style scoped>\n",
       "    .dataframe tbody tr th:only-of-type {\n",
       "        vertical-align: middle;\n",
       "    }\n",
       "\n",
       "    .dataframe tbody tr th {\n",
       "        vertical-align: top;\n",
       "    }\n",
       "\n",
       "    .dataframe thead th {\n",
       "        text-align: right;\n",
       "    }\n",
       "</style>\n",
       "<table border=\"1\" class=\"dataframe\">\n",
       "  <thead>\n",
       "    <tr style=\"text-align: right;\">\n",
       "      <th></th>\n",
       "      <th>road_type</th>\n",
       "      <th>num_lanes</th>\n",
       "      <th>curvature</th>\n",
       "      <th>speed_limit</th>\n",
       "      <th>lighting</th>\n",
       "      <th>weather</th>\n",
       "      <th>road_signs_present</th>\n",
       "      <th>public_road</th>\n",
       "      <th>time_of_day</th>\n",
       "      <th>holiday</th>\n",
       "      <th>school_season</th>\n",
       "      <th>num_reported_accidents</th>\n",
       "      <th>accident_risk</th>\n",
       "    </tr>\n",
       "  </thead>\n",
       "  <tbody>\n",
       "    <tr>\n",
       "      <th>0</th>\n",
       "      <td>rural</td>\n",
       "      <td>2</td>\n",
       "      <td>0.72</td>\n",
       "      <td>60</td>\n",
       "      <td>daylight</td>\n",
       "      <td>clear</td>\n",
       "      <td>True</td>\n",
       "      <td>False</td>\n",
       "      <td>afternoon</td>\n",
       "      <td>False</td>\n",
       "      <td>False</td>\n",
       "      <td>2</td>\n",
       "      <td>0.37</td>\n",
       "    </tr>\n",
       "    <tr>\n",
       "      <th>1</th>\n",
       "      <td>highway</td>\n",
       "      <td>4</td>\n",
       "      <td>0.95</td>\n",
       "      <td>45</td>\n",
       "      <td>daylight</td>\n",
       "      <td>foggy</td>\n",
       "      <td>False</td>\n",
       "      <td>True</td>\n",
       "      <td>evening</td>\n",
       "      <td>False</td>\n",
       "      <td>True</td>\n",
       "      <td>1</td>\n",
       "      <td>0.40</td>\n",
       "    </tr>\n",
       "    <tr>\n",
       "      <th>2</th>\n",
       "      <td>rural</td>\n",
       "      <td>1</td>\n",
       "      <td>0.72</td>\n",
       "      <td>25</td>\n",
       "      <td>night</td>\n",
       "      <td>rainy</td>\n",
       "      <td>False</td>\n",
       "      <td>False</td>\n",
       "      <td>evening</td>\n",
       "      <td>True</td>\n",
       "      <td>False</td>\n",
       "      <td>1</td>\n",
       "      <td>0.55</td>\n",
       "    </tr>\n",
       "    <tr>\n",
       "      <th>3</th>\n",
       "      <td>rural</td>\n",
       "      <td>4</td>\n",
       "      <td>0.86</td>\n",
       "      <td>70</td>\n",
       "      <td>dim</td>\n",
       "      <td>foggy</td>\n",
       "      <td>True</td>\n",
       "      <td>False</td>\n",
       "      <td>morning</td>\n",
       "      <td>True</td>\n",
       "      <td>True</td>\n",
       "      <td>1</td>\n",
       "      <td>0.56</td>\n",
       "    </tr>\n",
       "    <tr>\n",
       "      <th>4</th>\n",
       "      <td>highway</td>\n",
       "      <td>1</td>\n",
       "      <td>0.00</td>\n",
       "      <td>60</td>\n",
       "      <td>night</td>\n",
       "      <td>rainy</td>\n",
       "      <td>True</td>\n",
       "      <td>True</td>\n",
       "      <td>morning</td>\n",
       "      <td>True</td>\n",
       "      <td>True</td>\n",
       "      <td>3</td>\n",
       "      <td>0.54</td>\n",
       "    </tr>\n",
       "  </tbody>\n",
       "</table>\n",
       "</div>"
      ],
      "text/plain": [
       "  road_type  num_lanes  curvature  speed_limit  lighting weather  \\\n",
       "0     rural          2       0.72           60  daylight   clear   \n",
       "1   highway          4       0.95           45  daylight   foggy   \n",
       "2     rural          1       0.72           25     night   rainy   \n",
       "3     rural          4       0.86           70       dim   foggy   \n",
       "4   highway          1       0.00           60     night   rainy   \n",
       "\n",
       "   road_signs_present  public_road time_of_day  holiday  school_season  \\\n",
       "0                True        False   afternoon    False          False   \n",
       "1               False         True     evening    False           True   \n",
       "2               False        False     evening     True          False   \n",
       "3                True        False     morning     True           True   \n",
       "4                True         True     morning     True           True   \n",
       "\n",
       "   num_reported_accidents  accident_risk  \n",
       "0                       2           0.37  \n",
       "1                       1           0.40  \n",
       "2                       1           0.55  \n",
       "3                       1           0.56  \n",
       "4                       3           0.54  "
      ]
     },
     "execution_count": 3,
     "metadata": {},
     "output_type": "execute_result"
    }
   ],
   "source": [
    "org = []\n",
    "for n in [2, 10, 100]:\n",
    "    df = pd.read_csv(f'/kaggle/input/simulated-roads-accident-data/synthetic_road_accidents_{n}k.csv')\n",
    "    org.append(df)\n",
    "\n",
    "org = pd.concat(org, axis=0)\n",
    "org.head()"
   ]
  },
  {
   "cell_type": "code",
   "execution_count": 4,
   "id": "00e9b59c",
   "metadata": {
    "execution": {
     "iopub.execute_input": "2025-10-30T05:14:29.440462Z",
     "iopub.status.busy": "2025-10-30T05:14:29.440230Z",
     "iopub.status.idle": "2025-10-30T05:14:29.450514Z",
     "shell.execute_reply": "2025-10-30T05:14:29.449976Z"
    },
    "papermill": {
     "duration": 0.016029,
     "end_time": "2025-10-30T05:14:29.451568",
     "exception": false,
     "start_time": "2025-10-30T05:14:29.435539",
     "status": "completed"
    },
    "tags": []
   },
   "outputs": [],
   "source": [
    "train = pd.concat([train, org], axis=0, ignore_index=True)"
   ]
  },
  {
   "cell_type": "code",
   "execution_count": 5,
   "id": "cc8be149",
   "metadata": {
    "execution": {
     "iopub.execute_input": "2025-10-30T05:14:29.459721Z",
     "iopub.status.busy": "2025-10-30T05:14:29.459499Z",
     "iopub.status.idle": "2025-10-30T05:14:29.474984Z",
     "shell.execute_reply": "2025-10-30T05:14:29.474470Z"
    },
    "papermill": {
     "duration": 0.020465,
     "end_time": "2025-10-30T05:14:29.475929",
     "exception": false,
     "start_time": "2025-10-30T05:14:29.455464",
     "status": "completed"
    },
    "tags": []
   },
   "outputs": [],
   "source": [
    "num_cols = test.select_dtypes(include=['float64', 'int64']).columns.to_list()\n",
    "cat_cols = test.select_dtypes(include='object').columns.to_list()"
   ]
  },
  {
   "cell_type": "code",
   "execution_count": 6,
   "id": "26aa552d",
   "metadata": {
    "execution": {
     "iopub.execute_input": "2025-10-30T05:14:29.483679Z",
     "iopub.status.busy": "2025-10-30T05:14:29.483451Z",
     "iopub.status.idle": "2025-10-30T05:14:29.578536Z",
     "shell.execute_reply": "2025-10-30T05:14:29.577557Z"
    },
    "papermill": {
     "duration": 0.100448,
     "end_time": "2025-10-30T05:14:29.579940",
     "exception": false,
     "start_time": "2025-10-30T05:14:29.479492",
     "status": "completed"
    },
    "tags": []
   },
   "outputs": [
    {
     "name": "stdout",
     "output_type": "stream",
     "text": [
      "<class 'cudf.core.dataframe.DataFrame'>\n",
      "RangeIndex: 629754 entries, 0 to 629753\n",
      "Data columns (total 13 columns):\n",
      " #   Column                  Non-Null Count   Dtype\n",
      "---  ------                  --------------   -----\n",
      " 0   road_type               629754 non-null  object\n",
      " 1   num_lanes               629754 non-null  int64\n",
      " 2   curvature               629754 non-null  float64\n",
      " 3   speed_limit             629754 non-null  int64\n",
      " 4   lighting                629754 non-null  object\n",
      " 5   weather                 629754 non-null  object\n",
      " 6   road_signs_present      629754 non-null  bool\n",
      " 7   public_road             629754 non-null  bool\n",
      " 8   time_of_day             629754 non-null  object\n",
      " 9   holiday                 629754 non-null  bool\n",
      " 10  school_season           629754 non-null  bool\n",
      " 11  num_reported_accidents  629754 non-null  int64\n",
      " 12  accident_risk           629754 non-null  float64\n",
      "dtypes: bool(4), float64(2), int64(3), object(4)\n",
      "memory usage: 50.2+ MB\n"
     ]
    }
   ],
   "source": [
    "train.info()"
   ]
  },
  {
   "cell_type": "code",
   "execution_count": 7,
   "id": "d842a68e",
   "metadata": {
    "execution": {
     "iopub.execute_input": "2025-10-30T05:14:29.587898Z",
     "iopub.status.busy": "2025-10-30T05:14:29.587689Z",
     "iopub.status.idle": "2025-10-30T05:14:30.022557Z",
     "shell.execute_reply": "2025-10-30T05:14:30.021750Z"
    },
    "papermill": {
     "duration": 0.440347,
     "end_time": "2025-10-30T05:14:30.023941",
     "exception": false,
     "start_time": "2025-10-30T05:14:29.583594",
     "status": "completed"
    },
    "tags": []
   },
   "outputs": [],
   "source": [
    "for col in num_cols:\n",
    "    if test[col].dtype == 'float64':\n",
    "        train[col] = train[col].astype('float32')\n",
    "        test[col] = test[col].astype('float32')\n",
    "        \n",
    "    else:\n",
    "        train[col] = train[col].astype('int32')\n",
    "        test[col] = test[col].astype('int32')\n",
    "\n",
    "for col in cat_cols:\n",
    "    train[col] = train[col].astype('category')\n",
    "    test[col] = test[col].astype('category')"
   ]
  },
  {
   "cell_type": "code",
   "execution_count": 8,
   "id": "7f738c51",
   "metadata": {
    "execution": {
     "iopub.execute_input": "2025-10-30T05:14:30.032298Z",
     "iopub.status.busy": "2025-10-30T05:14:30.032081Z",
     "iopub.status.idle": "2025-10-30T05:14:30.046342Z",
     "shell.execute_reply": "2025-10-30T05:14:30.045526Z"
    },
    "papermill": {
     "duration": 0.019556,
     "end_time": "2025-10-30T05:14:30.047422",
     "exception": false,
     "start_time": "2025-10-30T05:14:30.027866",
     "status": "completed"
    },
    "tags": []
   },
   "outputs": [
    {
     "name": "stdout",
     "output_type": "stream",
     "text": [
      "<class 'cudf.core.dataframe.DataFrame'>\n",
      "RangeIndex: 629754 entries, 0 to 629753\n",
      "Data columns (total 13 columns):\n",
      " #   Column                  Non-Null Count   Dtype\n",
      "---  ------                  --------------   -----\n",
      " 0   road_type               629754 non-null  category\n",
      " 1   num_lanes               629754 non-null  int32\n",
      " 2   curvature               629754 non-null  float32\n",
      " 3   speed_limit             629754 non-null  int32\n",
      " 4   lighting                629754 non-null  category\n",
      " 5   weather                 629754 non-null  category\n",
      " 6   road_signs_present      629754 non-null  bool\n",
      " 7   public_road             629754 non-null  bool\n",
      " 8   time_of_day             629754 non-null  category\n",
      " 9   holiday                 629754 non-null  bool\n",
      " 10  school_season           629754 non-null  bool\n",
      " 11  num_reported_accidents  629754 non-null  int32\n",
      " 12  accident_risk           629754 non-null  float64\n",
      "dtypes: bool(4), category(4), float32(1), float64(1), int32(3)\n",
      "memory usage: 19.2 MB\n"
     ]
    }
   ],
   "source": [
    "train.info()"
   ]
  },
  {
   "cell_type": "markdown",
   "id": "11da3ca0",
   "metadata": {
    "papermill": {
     "duration": 0.003301,
     "end_time": "2025-10-30T05:14:30.054362",
     "exception": false,
     "start_time": "2025-10-30T05:14:30.051061",
     "status": "completed"
    },
    "tags": []
   },
   "source": [
    "# Feature Engineering"
   ]
  },
  {
   "cell_type": "code",
   "execution_count": 9,
   "id": "cf16c6d1",
   "metadata": {
    "execution": {
     "iopub.execute_input": "2025-10-30T05:14:30.062374Z",
     "iopub.status.busy": "2025-10-30T05:14:30.061873Z",
     "iopub.status.idle": "2025-10-30T05:14:30.072357Z",
     "shell.execute_reply": "2025-10-30T05:14:30.071870Z"
    },
    "papermill": {
     "duration": 0.01554,
     "end_time": "2025-10-30T05:14:30.073359",
     "exception": false,
     "start_time": "2025-10-30T05:14:30.057819",
     "status": "completed"
    },
    "tags": []
   },
   "outputs": [],
   "source": [
    "num_cols = test.select_dtypes(include=['float32', 'int32']).columns.to_list()\n",
    "cat_cols = test.select_dtypes(include='category').columns.to_list()"
   ]
  },
  {
   "cell_type": "code",
   "execution_count": 10,
   "id": "c64968f3",
   "metadata": {
    "execution": {
     "iopub.execute_input": "2025-10-30T05:14:30.081378Z",
     "iopub.status.busy": "2025-10-30T05:14:30.081189Z",
     "iopub.status.idle": "2025-10-30T05:14:30.546215Z",
     "shell.execute_reply": "2025-10-30T05:14:30.545675Z"
    },
    "papermill": {
     "duration": 0.470472,
     "end_time": "2025-10-30T05:14:30.547431",
     "exception": false,
     "start_time": "2025-10-30T05:14:30.076959",
     "status": "completed"
    },
    "tags": []
   },
   "outputs": [],
   "source": [
    "def risk(df):\n",
    "    base_risk = (0.4 * df['curvature'] +\n",
    "                 0.2 * (df['lighting'] == 'night').astype(int) +\n",
    "                 0.1 * (df[\"weather\"] != \"clear\").astype(int) +\n",
    "                 0.2 * (df[\"speed_limit\"] >= 60).astype(int) +\n",
    "                 0.1 * (np.array(df[\"num_reported_accidents\"] > 4).astype(int)\n",
    "    ))\n",
    "                 \n",
    "    noise = np.random.normal(0, 0.05, df.shape[0])\n",
    "    risk_score = np.clip(base_risk + noise, 0, 1)\n",
    "    df[\"simulated_risk\"] = np.round(risk_score, 2).astype('float32')\n",
    "\n",
    "    return df\n",
    "\n",
    "train = risk(train)\n",
    "test = risk(test)"
   ]
  },
  {
   "cell_type": "code",
   "execution_count": 11,
   "id": "a430d26a",
   "metadata": {
    "execution": {
     "iopub.execute_input": "2025-10-30T05:14:30.555806Z",
     "iopub.status.busy": "2025-10-30T05:14:30.555567Z",
     "iopub.status.idle": "2025-10-30T05:14:30.586899Z",
     "shell.execute_reply": "2025-10-30T05:14:30.586292Z"
    },
    "papermill": {
     "duration": 0.036518,
     "end_time": "2025-10-30T05:14:30.587894",
     "exception": false,
     "start_time": "2025-10-30T05:14:30.551376",
     "status": "completed"
    },
    "tags": []
   },
   "outputs": [
    {
     "data": {
      "text/plain": [
       "road_type                 category\n",
       "num_lanes                    int32\n",
       "curvature                  float32\n",
       "speed_limit                  int32\n",
       "lighting                  category\n",
       "weather                   category\n",
       "road_signs_present            bool\n",
       "public_road                   bool\n",
       "time_of_day               category\n",
       "holiday                       bool\n",
       "school_season                 bool\n",
       "num_reported_accidents       int32\n",
       "accident_risk              float64\n",
       "simulated_risk             float32\n",
       "dtype: object"
      ]
     },
     "execution_count": 11,
     "metadata": {},
     "output_type": "execute_result"
    }
   ],
   "source": [
    "train.dtypes"
   ]
  },
  {
   "cell_type": "code",
   "execution_count": 12,
   "id": "c392a5eb",
   "metadata": {
    "execution": {
     "iopub.execute_input": "2025-10-30T05:14:30.606350Z",
     "iopub.status.busy": "2025-10-30T05:14:30.605903Z",
     "iopub.status.idle": "2025-10-30T05:14:30.612022Z",
     "shell.execute_reply": "2025-10-30T05:14:30.611456Z"
    },
    "papermill": {
     "duration": 0.011374,
     "end_time": "2025-10-30T05:14:30.613032",
     "exception": false,
     "start_time": "2025-10-30T05:14:30.601658",
     "status": "completed"
    },
    "tags": []
   },
   "outputs": [
    {
     "data": {
      "text/plain": [
       "Index(['road_type', 'num_lanes', 'curvature', 'speed_limit', 'lighting',\n",
       "       'weather', 'road_signs_present', 'public_road', 'time_of_day',\n",
       "       'holiday', 'school_season', 'num_reported_accidents', 'accident_risk',\n",
       "       'simulated_risk'],\n",
       "      dtype='object')"
      ]
     },
     "execution_count": 12,
     "metadata": {},
     "output_type": "execute_result"
    }
   ],
   "source": [
    "train.columns"
   ]
  },
  {
   "cell_type": "code",
   "execution_count": 13,
   "id": "2008eb2c",
   "metadata": {
    "execution": {
     "iopub.execute_input": "2025-10-30T05:14:30.621608Z",
     "iopub.status.busy": "2025-10-30T05:14:30.621101Z",
     "iopub.status.idle": "2025-10-30T05:14:30.624525Z",
     "shell.execute_reply": "2025-10-30T05:14:30.623833Z"
    },
    "papermill": {
     "duration": 0.008655,
     "end_time": "2025-10-30T05:14:30.625523",
     "exception": false,
     "start_time": "2025-10-30T05:14:30.616868",
     "status": "completed"
    },
    "tags": []
   },
   "outputs": [],
   "source": [
    "features = ['num_lanes', 'curvature', 'speed_limit', 'road_signs_present', 'public_road', 'holiday', 'school_season', 'num_reported_accidents']\n",
    "target = 'accident_risk'"
   ]
  },
  {
   "cell_type": "code",
   "execution_count": 14,
   "id": "6a53a103",
   "metadata": {
    "execution": {
     "iopub.execute_input": "2025-10-30T05:14:30.633722Z",
     "iopub.status.busy": "2025-10-30T05:14:30.633377Z",
     "iopub.status.idle": "2025-10-30T05:14:30.636901Z",
     "shell.execute_reply": "2025-10-30T05:14:30.636306Z"
    },
    "papermill": {
     "duration": 0.008634,
     "end_time": "2025-10-30T05:14:30.637925",
     "exception": false,
     "start_time": "2025-10-30T05:14:30.629291",
     "status": "completed"
    },
    "tags": []
   },
   "outputs": [
    {
     "name": "stdout",
     "output_type": "stream",
     "text": [
      "['num_lanes', 'curvature', 'speed_limit', 'num_reported_accidents']\n"
     ]
    }
   ],
   "source": [
    "print(num_cols)"
   ]
  },
  {
   "cell_type": "code",
   "execution_count": 15,
   "id": "c139a947",
   "metadata": {
    "execution": {
     "iopub.execute_input": "2025-10-30T05:14:30.646475Z",
     "iopub.status.busy": "2025-10-30T05:14:30.645993Z",
     "iopub.status.idle": "2025-10-30T05:14:31.042806Z",
     "shell.execute_reply": "2025-10-30T05:14:31.042123Z"
    },
    "papermill": {
     "duration": 0.402267,
     "end_time": "2025-10-30T05:14:31.044043",
     "exception": false,
     "start_time": "2025-10-30T05:14:30.641776",
     "status": "completed"
    },
    "tags": []
   },
   "outputs": [
    {
     "name": "stdout",
     "output_type": "stream",
     "text": [
      "TE_road_type, TE_lighting, TE_weather, TE_time_of_day, "
     ]
    }
   ],
   "source": [
    "TE = []\n",
    "for c in cat_cols:\n",
    "    te_map = train.groupby(c)[target].mean()\n",
    "    n = f\"TE_{c}\"\n",
    "    print(f\"{n}, \",end=\"\")\n",
    " \n",
    "    train[n] = train[c].map(te_map)\n",
    "    test[n] = test[c].map(te_map)\n",
    "\n",
    "    global_mean = train[target].mean()\n",
    "    train[n].fillna(global_mean, inplace=True)\n",
    "    test[n].fillna(global_mean, inplace=True)\n",
    "    \n",
    "    TE.append(n)"
   ]
  },
  {
   "cell_type": "code",
   "execution_count": 16,
   "id": "34bbed1c",
   "metadata": {
    "execution": {
     "iopub.execute_input": "2025-10-30T05:14:31.052886Z",
     "iopub.status.busy": "2025-10-30T05:14:31.052659Z",
     "iopub.status.idle": "2025-10-30T05:14:31.093455Z",
     "shell.execute_reply": "2025-10-30T05:14:31.092755Z"
    },
    "papermill": {
     "duration": 0.046498,
     "end_time": "2025-10-30T05:14:31.094632",
     "exception": false,
     "start_time": "2025-10-30T05:14:31.048134",
     "status": "completed"
    },
    "tags": []
   },
   "outputs": [
    {
     "data": {
      "text/html": [
       "<div>\n",
       "<style scoped>\n",
       "    .dataframe tbody tr th:only-of-type {\n",
       "        vertical-align: middle;\n",
       "    }\n",
       "\n",
       "    .dataframe tbody tr th {\n",
       "        vertical-align: top;\n",
       "    }\n",
       "\n",
       "    .dataframe thead th {\n",
       "        text-align: right;\n",
       "    }\n",
       "</style>\n",
       "<table border=\"1\" class=\"dataframe\">\n",
       "  <thead>\n",
       "    <tr style=\"text-align: right;\">\n",
       "      <th></th>\n",
       "      <th>road_type</th>\n",
       "      <th>num_lanes</th>\n",
       "      <th>curvature</th>\n",
       "      <th>speed_limit</th>\n",
       "      <th>lighting</th>\n",
       "      <th>weather</th>\n",
       "      <th>road_signs_present</th>\n",
       "      <th>public_road</th>\n",
       "      <th>time_of_day</th>\n",
       "      <th>holiday</th>\n",
       "      <th>school_season</th>\n",
       "      <th>num_reported_accidents</th>\n",
       "      <th>accident_risk</th>\n",
       "      <th>simulated_risk</th>\n",
       "      <th>TE_road_type</th>\n",
       "      <th>TE_lighting</th>\n",
       "      <th>TE_weather</th>\n",
       "      <th>TE_time_of_day</th>\n",
       "    </tr>\n",
       "  </thead>\n",
       "  <tbody>\n",
       "    <tr>\n",
       "      <th>0</th>\n",
       "      <td>urban</td>\n",
       "      <td>2</td>\n",
       "      <td>0.06</td>\n",
       "      <td>35</td>\n",
       "      <td>daylight</td>\n",
       "      <td>rainy</td>\n",
       "      <td>False</td>\n",
       "      <td>True</td>\n",
       "      <td>afternoon</td>\n",
       "      <td>False</td>\n",
       "      <td>True</td>\n",
       "      <td>1</td>\n",
       "      <td>0.13</td>\n",
       "      <td>0.14</td>\n",
       "      <td>0.362206</td>\n",
       "      <td>0.305396</td>\n",
       "      <td>0.372135</td>\n",
       "      <td>0.357131</td>\n",
       "    </tr>\n",
       "    <tr>\n",
       "      <th>1</th>\n",
       "      <td>urban</td>\n",
       "      <td>4</td>\n",
       "      <td>0.99</td>\n",
       "      <td>35</td>\n",
       "      <td>daylight</td>\n",
       "      <td>clear</td>\n",
       "      <td>True</td>\n",
       "      <td>False</td>\n",
       "      <td>evening</td>\n",
       "      <td>True</td>\n",
       "      <td>True</td>\n",
       "      <td>0</td>\n",
       "      <td>0.35</td>\n",
       "      <td>0.39</td>\n",
       "      <td>0.362206</td>\n",
       "      <td>0.305396</td>\n",
       "      <td>0.311183</td>\n",
       "      <td>0.359882</td>\n",
       "    </tr>\n",
       "    <tr>\n",
       "      <th>2</th>\n",
       "      <td>rural</td>\n",
       "      <td>4</td>\n",
       "      <td>0.63</td>\n",
       "      <td>70</td>\n",
       "      <td>dim</td>\n",
       "      <td>clear</td>\n",
       "      <td>False</td>\n",
       "      <td>True</td>\n",
       "      <td>morning</td>\n",
       "      <td>True</td>\n",
       "      <td>False</td>\n",
       "      <td>2</td>\n",
       "      <td>0.30</td>\n",
       "      <td>0.40</td>\n",
       "      <td>0.355762</td>\n",
       "      <td>0.302921</td>\n",
       "      <td>0.311183</td>\n",
       "      <td>0.356445</td>\n",
       "    </tr>\n",
       "    <tr>\n",
       "      <th>3</th>\n",
       "      <td>highway</td>\n",
       "      <td>4</td>\n",
       "      <td>0.07</td>\n",
       "      <td>35</td>\n",
       "      <td>dim</td>\n",
       "      <td>rainy</td>\n",
       "      <td>True</td>\n",
       "      <td>True</td>\n",
       "      <td>morning</td>\n",
       "      <td>False</td>\n",
       "      <td>False</td>\n",
       "      <td>1</td>\n",
       "      <td>0.21</td>\n",
       "      <td>0.15</td>\n",
       "      <td>0.355524</td>\n",
       "      <td>0.302921</td>\n",
       "      <td>0.372135</td>\n",
       "      <td>0.356445</td>\n",
       "    </tr>\n",
       "    <tr>\n",
       "      <th>4</th>\n",
       "      <td>rural</td>\n",
       "      <td>1</td>\n",
       "      <td>0.58</td>\n",
       "      <td>60</td>\n",
       "      <td>daylight</td>\n",
       "      <td>foggy</td>\n",
       "      <td>False</td>\n",
       "      <td>False</td>\n",
       "      <td>evening</td>\n",
       "      <td>True</td>\n",
       "      <td>False</td>\n",
       "      <td>1</td>\n",
       "      <td>0.56</td>\n",
       "      <td>0.53</td>\n",
       "      <td>0.355762</td>\n",
       "      <td>0.305396</td>\n",
       "      <td>0.391359</td>\n",
       "      <td>0.359882</td>\n",
       "    </tr>\n",
       "  </tbody>\n",
       "</table>\n",
       "</div>"
      ],
      "text/plain": [
       "  road_type  num_lanes  curvature  speed_limit  lighting weather  \\\n",
       "0     urban          2       0.06           35  daylight   rainy   \n",
       "1     urban          4       0.99           35  daylight   clear   \n",
       "2     rural          4       0.63           70       dim   clear   \n",
       "3   highway          4       0.07           35       dim   rainy   \n",
       "4     rural          1       0.58           60  daylight   foggy   \n",
       "\n",
       "   road_signs_present  public_road time_of_day  holiday  school_season  \\\n",
       "0               False         True   afternoon    False           True   \n",
       "1                True        False     evening     True           True   \n",
       "2               False         True     morning     True          False   \n",
       "3                True         True     morning    False          False   \n",
       "4               False        False     evening     True          False   \n",
       "\n",
       "   num_reported_accidents  accident_risk  simulated_risk  TE_road_type  \\\n",
       "0                       1           0.13            0.14      0.362206   \n",
       "1                       0           0.35            0.39      0.362206   \n",
       "2                       2           0.30            0.40      0.355762   \n",
       "3                       1           0.21            0.15      0.355524   \n",
       "4                       1           0.56            0.53      0.355762   \n",
       "\n",
       "   TE_lighting  TE_weather  TE_time_of_day  \n",
       "0     0.305396    0.372135        0.357131  \n",
       "1     0.305396    0.311183        0.359882  \n",
       "2     0.302921    0.311183        0.356445  \n",
       "3     0.302921    0.372135        0.356445  \n",
       "4     0.305396    0.391359        0.359882  "
      ]
     },
     "execution_count": 16,
     "metadata": {},
     "output_type": "execute_result"
    }
   ],
   "source": [
    "train.head()"
   ]
  },
  {
   "cell_type": "markdown",
   "id": "6ff695ee",
   "metadata": {
    "papermill": {
     "duration": 0.004354,
     "end_time": "2025-10-30T05:14:31.103252",
     "exception": false,
     "start_time": "2025-10-30T05:14:31.098898",
     "status": "completed"
    },
    "tags": []
   },
   "source": [
    "# Splitting the data into training and testing sets\n",
    "- Use log transformation on the target variable"
   ]
  },
  {
   "cell_type": "code",
   "execution_count": 17,
   "id": "d51936d5",
   "metadata": {
    "execution": {
     "iopub.execute_input": "2025-10-30T05:14:31.112266Z",
     "iopub.status.busy": "2025-10-30T05:14:31.112056Z",
     "iopub.status.idle": "2025-10-30T05:14:31.123636Z",
     "shell.execute_reply": "2025-10-30T05:14:31.122901Z"
    },
    "papermill": {
     "duration": 0.017498,
     "end_time": "2025-10-30T05:14:31.124768",
     "exception": false,
     "start_time": "2025-10-30T05:14:31.107270",
     "status": "completed"
    },
    "tags": []
   },
   "outputs": [],
   "source": [
    "X = train.copy()\n",
    "y = X.pop('accident_risk')\n",
    "X_test = test.copy()"
   ]
  },
  {
   "cell_type": "markdown",
   "id": "0830769e",
   "metadata": {
    "papermill": {
     "duration": 0.003788,
     "end_time": "2025-10-30T05:14:31.132801",
     "exception": false,
     "start_time": "2025-10-30T05:14:31.129013",
     "status": "completed"
    },
    "tags": []
   },
   "source": [
    "From the previous notebook, I noticed the XGBoost model was conservative at high values around 1.0. So we are applying higher weights on higher values, so that the model pays extra attention on these values."
   ]
  },
  {
   "cell_type": "code",
   "execution_count": 18,
   "id": "4bc7e005",
   "metadata": {
    "execution": {
     "iopub.execute_input": "2025-10-30T05:14:31.141541Z",
     "iopub.status.busy": "2025-10-30T05:14:31.141192Z",
     "iopub.status.idle": "2025-10-30T05:14:31.144972Z",
     "shell.execute_reply": "2025-10-30T05:14:31.144447Z"
    },
    "papermill": {
     "duration": 0.009353,
     "end_time": "2025-10-30T05:14:31.146008",
     "exception": false,
     "start_time": "2025-10-30T05:14:31.136655",
     "status": "completed"
    },
    "tags": []
   },
   "outputs": [],
   "source": [
    "n_folds = 5\n",
    "kf = KFold(n_splits=n_folds, shuffle=True, random_state=2)\n",
    "\n",
    "oof_xgb = np.zeros(len(y))\n",
    "test_xgb = np.zeros(len(X_test))"
   ]
  },
  {
   "cell_type": "code",
   "execution_count": 19,
   "id": "216167d2",
   "metadata": {
    "execution": {
     "iopub.execute_input": "2025-10-30T05:14:31.155470Z",
     "iopub.status.busy": "2025-10-30T05:14:31.154877Z",
     "iopub.status.idle": "2025-10-30T05:15:16.639505Z",
     "shell.execute_reply": "2025-10-30T05:15:16.638551Z"
    },
    "papermill": {
     "duration": 45.490613,
     "end_time": "2025-10-30T05:15:16.640848",
     "exception": false,
     "start_time": "2025-10-30T05:14:31.150235",
     "status": "completed"
    },
    "tags": []
   },
   "outputs": [
    {
     "name": "stderr",
     "output_type": "stream",
     "text": [
      "/usr/local/lib/python3.11/dist-packages/xgboost/core.py:160: UserWarning: [05:14:42] WARNING: /workspace/src/common/error_msg.cc:58: Falling back to prediction using DMatrix due to mismatched devices. This might lead to higher memory usage and slower performance. XGBoost is running on: cuda:0, while the input data is on: cpu.\n",
      "Potential solutions:\n",
      "- Use a data structure that matches the device ordinal in the booster.\n",
      "- Set the device for booster before call to inplace_predict.\n",
      "\n",
      "This warning will only be shown once.\n",
      "\n",
      "  warnings.warn(smsg, UserWarning)\n"
     ]
    },
    {
     "name": "stdout",
     "output_type": "stream",
     "text": [
      "Fold 1 RMSE: 0.056485\n",
      "Fold 2 RMSE: 0.055708\n",
      "Fold 3 RMSE: 0.055903\n",
      "Fold 4 RMSE: 0.055908\n",
      "Fold 5 RMSE: 0.056042\n",
      "\n",
      "Overall OOF RMSE: 0.056010\n",
      "\n",
      "Overall OOF R2Score: 0.890333\n",
      "\n",
      "Overall OOF Explained Variance: 0.890333\n"
     ]
    }
   ],
   "source": [
    "params = {\n",
    "    'n_estimators': 1100,\n",
    "    'learning_rate': 0.05036086563157658,\n",
    "    'max_depth': 5,\n",
    "    'reg_alpha': 1.7078790750979551, \n",
    "    'reg_lambda': 0.04303317633957419,\n",
    "    'subsample': 0.6010146163838317,\n",
    "    'colsample_bytree': 0.8088494830103302,\n",
    "    'eval_metric': 'rmse',\n",
    "    'random_state':2, \n",
    "    'enable_categorical': True,\n",
    "    'early_stopping_rounds': 100,\n",
    "    'device': 'cuda',\n",
    "    'objective': 'reg:squarederror',\n",
    "}\n",
    "\n",
    "for fold, (train_index, valid_index) in enumerate(kf.split(X, y), start=1):\n",
    "    X_train, X_valid = X.iloc[train_index], X.iloc[valid_index]\n",
    "    y_train, y_valid = y.iloc[train_index], y.iloc[valid_index]\n",
    "\n",
    "    xgb = XGBRegressor(**params).fit(X_train, y_train, eval_set=[(X_valid, y_valid)], verbose=0)\n",
    "\n",
    "    valid_pred = xgb.predict(X_valid)\n",
    "    oof_xgb[valid_index] = valid_pred\n",
    "    test_xgb += xgb.predict(X_test)\n",
    "    \n",
    "    fold_rmsle = np.sqrt(mean_squared_error(y_valid, valid_pred))\n",
    "    print(f\"Fold {fold} RMSE: {fold_rmsle:.6f}\")\n",
    "\n",
    "test_xgb /= n_folds\n",
    "overall_rmsle = np.sqrt(mean_squared_error(y, oof_xgb))\n",
    "overall_r2score = r2_score(y, oof_xgb)\n",
    "overall_explained_var = explained_variance_score(y, oof_xgb)\n",
    "\n",
    "print(f\"\\nOverall OOF RMSE: {overall_rmsle:.6f}\")  \n",
    "print(f\"\\nOverall OOF R2Score: {overall_r2score:.6f}\")  \n",
    "print(f\"\\nOverall OOF Explained Variance: {overall_explained_var:.6f}\")  "
   ]
  },
  {
   "cell_type": "code",
   "execution_count": 20,
   "id": "b9b9e08b",
   "metadata": {
    "execution": {
     "iopub.execute_input": "2025-10-30T05:15:16.650953Z",
     "iopub.status.busy": "2025-10-30T05:15:16.650708Z",
     "iopub.status.idle": "2025-10-30T05:15:16.719320Z",
     "shell.execute_reply": "2025-10-30T05:15:16.718558Z"
    },
    "papermill": {
     "duration": 0.074858,
     "end_time": "2025-10-30T05:15:16.720541",
     "exception": false,
     "start_time": "2025-10-30T05:15:16.645683",
     "status": "completed"
    },
    "tags": []
   },
   "outputs": [
    {
     "data": {
      "text/html": [
       "<div>\n",
       "<style scoped>\n",
       "    .dataframe tbody tr th:only-of-type {\n",
       "        vertical-align: middle;\n",
       "    }\n",
       "\n",
       "    .dataframe tbody tr th {\n",
       "        vertical-align: top;\n",
       "    }\n",
       "\n",
       "    .dataframe thead th {\n",
       "        text-align: right;\n",
       "    }\n",
       "</style>\n",
       "<table border=\"1\" class=\"dataframe\">\n",
       "  <thead>\n",
       "    <tr style=\"text-align: right;\">\n",
       "      <th></th>\n",
       "      <th>id</th>\n",
       "      <th>accident_risk</th>\n",
       "    </tr>\n",
       "  </thead>\n",
       "  <tbody>\n",
       "    <tr>\n",
       "      <th>0</th>\n",
       "      <td>517754</td>\n",
       "      <td>0.295082</td>\n",
       "    </tr>\n",
       "    <tr>\n",
       "      <th>1</th>\n",
       "      <td>517755</td>\n",
       "      <td>0.118949</td>\n",
       "    </tr>\n",
       "    <tr>\n",
       "      <th>2</th>\n",
       "      <td>517756</td>\n",
       "      <td>0.182556</td>\n",
       "    </tr>\n",
       "    <tr>\n",
       "      <th>3</th>\n",
       "      <td>517757</td>\n",
       "      <td>0.344391</td>\n",
       "    </tr>\n",
       "    <tr>\n",
       "      <th>4</th>\n",
       "      <td>517758</td>\n",
       "      <td>0.388306</td>\n",
       "    </tr>\n",
       "  </tbody>\n",
       "</table>\n",
       "</div>"
      ],
      "text/plain": [
       "       id  accident_risk\n",
       "0  517754       0.295082\n",
       "1  517755       0.118949\n",
       "2  517756       0.182556\n",
       "3  517757       0.344391\n",
       "4  517758       0.388306"
      ]
     },
     "execution_count": 20,
     "metadata": {},
     "output_type": "execute_result"
    }
   ],
   "source": [
    "sub = pd.read_csv('/kaggle/input/playground-series-s5e10/sample_submission.csv')\n",
    "sub['accident_risk'] = test_xgb\n",
    "sub.to_csv('submission.csv', index=False)\n",
    "sub.head()"
   ]
  }
 ],
 "metadata": {
  "kaggle": {
   "accelerator": "nvidiaTeslaT4",
   "dataSources": [
    {
     "databundleVersionId": 13760552,
     "sourceId": 91721,
     "sourceType": "competition"
    },
    {
     "datasetId": 7797612,
     "sourceId": 12367739,
     "sourceType": "datasetVersion"
    }
   ],
   "dockerImageVersionId": 31153,
   "isGpuEnabled": true,
   "isInternetEnabled": true,
   "language": "python",
   "sourceType": "notebook"
  },
  "kernelspec": {
   "display_name": "Python 3",
   "language": "python",
   "name": "python3"
  },
  "language_info": {
   "codemirror_mode": {
    "name": "ipython",
    "version": 3
   },
   "file_extension": ".py",
   "mimetype": "text/x-python",
   "name": "python",
   "nbconvert_exporter": "python",
   "pygments_lexer": "ipython3",
   "version": "3.11.13"
  },
  "papermill": {
   "default_parameters": {},
   "duration": 71.679212,
   "end_time": "2025-10-30T05:15:18.895980",
   "environment_variables": {},
   "exception": null,
   "input_path": "__notebook__.ipynb",
   "output_path": "__notebook__.ipynb",
   "parameters": {},
   "start_time": "2025-10-30T05:14:07.216768",
   "version": "2.6.0"
  }
 },
 "nbformat": 4,
 "nbformat_minor": 5
}
