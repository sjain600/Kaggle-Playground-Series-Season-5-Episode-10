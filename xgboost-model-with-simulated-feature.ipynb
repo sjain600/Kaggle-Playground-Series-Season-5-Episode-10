{
 "cells": [
  {
   "cell_type": "markdown",
   "id": "cd60a0c1",
   "metadata": {
    "papermill": {
     "duration": 0.006141,
     "end_time": "2025-10-27T09:28:59.774608",
     "exception": false,
     "start_time": "2025-10-27T09:28:59.768467",
     "status": "completed"
    },
    "tags": []
   },
   "source": [
    "### Few changes made in this notebook:\n",
    "- Added original dataset\n",
    "- Conduct binning on curvature feature based on visualization notebook\n",
    "- Added simulated accident risk feature\n",
    "- Remove pipeline"
   ]
  },
  {
   "cell_type": "code",
   "execution_count": 1,
   "id": "3308c57d",
   "metadata": {
    "_cell_guid": "b1076dfc-b9ad-4769-8c92-a6c4dae69d19",
    "_uuid": "8f2839f25d086af736a60e9eeb907d3b93b6e0e5",
    "execution": {
     "iopub.execute_input": "2025-10-27T09:28:59.786815Z",
     "iopub.status.busy": "2025-10-27T09:28:59.786493Z",
     "iopub.status.idle": "2025-10-27T09:29:06.283422Z",
     "shell.execute_reply": "2025-10-27T09:29:06.281962Z"
    },
    "papermill": {
     "duration": 6.504913,
     "end_time": "2025-10-27T09:29:06.285068",
     "exception": false,
     "start_time": "2025-10-27T09:28:59.780155",
     "status": "completed"
    },
    "tags": []
   },
   "outputs": [
    {
     "name": "stdout",
     "output_type": "stream",
     "text": [
      "/kaggle/input/simulated-roads-accident-data/synthetic_road_accidents_10k.csv\n",
      "/kaggle/input/simulated-roads-accident-data/synthetic_road_accidents_2k.csv\n",
      "/kaggle/input/simulated-roads-accident-data/synthetic_road_accidents_100k.csv\n",
      "/kaggle/input/playground-series-s5e10/sample_submission.csv\n",
      "/kaggle/input/playground-series-s5e10/train.csv\n",
      "/kaggle/input/playground-series-s5e10/test.csv\n"
     ]
    }
   ],
   "source": [
    "# This Python 3 environment comes with many helpful analytics libraries installed\n",
    "# It is defined by the kaggle/python Docker image: https://github.com/kaggle/docker-python\n",
    "# For example, here's several helpful packages to load\n",
    "#%load_ext cudf.pandas\n",
    "import numpy as np # linear algebra\n",
    "import pandas as pd # data processing, CSV file I/O (e.g. pd.read_csv)\n",
    "import matplotlib.pyplot as plt\n",
    "import seaborn as sns\n",
    "from sklearn.preprocessing import StandardScaler, LabelEncoder\n",
    "from sklearn.model_selection import train_test_split, KFold, GridSearchCV, cross_val_score\n",
    "from sklearn.compose import ColumnTransformer\n",
    "from sklearn.impute import SimpleImputer\n",
    "from sklearn.preprocessing import OneHotEncoder\n",
    "from sklearn.metrics import explained_variance_score, mean_absolute_error, mean_squared_error, r2_score\n",
    "from xgboost import XGBRegressor\n",
    "\n",
    "import optuna\n",
    "from optuna.visualization import (\n",
    "    plot_optimization_history,\n",
    "    plot_param_importances,\n",
    "    plot_slice,\n",
    "    plot_parallel_coordinate\n",
    ")\n",
    "%matplotlib inline\n",
    "plt.style.use('seaborn-v0_8')\n",
    "plt.rc('figure', figsize=(10,6), dpi=180)\n",
    "plt.rc('axes', labelweight='bold', labelsize='large',\n",
    "       titleweight='bold', titlesize=15, titlepad=10)\n",
    "plt.rc('animation', html='html5')\n",
    "\n",
    "import warnings\n",
    "\n",
    "warnings.filterwarnings(\"ignore\", category=FutureWarning)\n",
    "\n",
    "# Input data files are available in the read-only \"../input/\" directory\n",
    "# For example, running this (by clicking run or pressing Shift+Enter) will list all files under the input directory\n",
    "\n",
    "import os\n",
    "for dirname, _, filenames in os.walk('/kaggle/input'):\n",
    "    for filename in filenames:\n",
    "        print(os.path.join(dirname, filename))\n",
    "\n",
    "# You can write up to 20GB to the current directory (/kaggle/working/) that gets preserved as output when you create a version using \"Save & Run All\" \n",
    "# You can also write temporary files to /kaggle/temp/, but they won't be saved outside of the current session"
   ]
  },
  {
   "cell_type": "code",
   "execution_count": 2,
   "id": "b0008879",
   "metadata": {
    "execution": {
     "iopub.execute_input": "2025-10-27T09:29:06.297130Z",
     "iopub.status.busy": "2025-10-27T09:29:06.296695Z",
     "iopub.status.idle": "2025-10-27T09:29:09.826738Z",
     "shell.execute_reply": "2025-10-27T09:29:09.825644Z"
    },
    "papermill": {
     "duration": 3.538106,
     "end_time": "2025-10-27T09:29:09.828603",
     "exception": false,
     "start_time": "2025-10-27T09:29:06.290497",
     "status": "completed"
    },
    "tags": []
   },
   "outputs": [],
   "source": [
    "train = pd.read_csv('/kaggle/input/playground-series-s5e10/train.csv', index_col='id')\n",
    "test = pd.read_csv('/kaggle/input/playground-series-s5e10/test.csv', index_col='id')"
   ]
  },
  {
   "cell_type": "code",
   "execution_count": 3,
   "id": "362318ec",
   "metadata": {
    "execution": {
     "iopub.execute_input": "2025-10-27T09:29:09.840694Z",
     "iopub.status.busy": "2025-10-27T09:29:09.840261Z",
     "iopub.status.idle": "2025-10-27T09:29:10.348907Z",
     "shell.execute_reply": "2025-10-27T09:29:10.348048Z"
    },
    "papermill": {
     "duration": 0.516557,
     "end_time": "2025-10-27T09:29:10.350507",
     "exception": false,
     "start_time": "2025-10-27T09:29:09.833950",
     "status": "completed"
    },
    "tags": []
   },
   "outputs": [
    {
     "data": {
      "text/html": [
       "<div>\n",
       "<style scoped>\n",
       "    .dataframe tbody tr th:only-of-type {\n",
       "        vertical-align: middle;\n",
       "    }\n",
       "\n",
       "    .dataframe tbody tr th {\n",
       "        vertical-align: top;\n",
       "    }\n",
       "\n",
       "    .dataframe thead th {\n",
       "        text-align: right;\n",
       "    }\n",
       "</style>\n",
       "<table border=\"1\" class=\"dataframe\">\n",
       "  <thead>\n",
       "    <tr style=\"text-align: right;\">\n",
       "      <th></th>\n",
       "      <th>road_type</th>\n",
       "      <th>num_lanes</th>\n",
       "      <th>curvature</th>\n",
       "      <th>speed_limit</th>\n",
       "      <th>lighting</th>\n",
       "      <th>weather</th>\n",
       "      <th>road_signs_present</th>\n",
       "      <th>public_road</th>\n",
       "      <th>time_of_day</th>\n",
       "      <th>holiday</th>\n",
       "      <th>school_season</th>\n",
       "      <th>num_reported_accidents</th>\n",
       "      <th>accident_risk</th>\n",
       "    </tr>\n",
       "  </thead>\n",
       "  <tbody>\n",
       "    <tr>\n",
       "      <th>0</th>\n",
       "      <td>rural</td>\n",
       "      <td>2</td>\n",
       "      <td>0.72</td>\n",
       "      <td>60</td>\n",
       "      <td>daylight</td>\n",
       "      <td>clear</td>\n",
       "      <td>True</td>\n",
       "      <td>False</td>\n",
       "      <td>afternoon</td>\n",
       "      <td>False</td>\n",
       "      <td>False</td>\n",
       "      <td>2</td>\n",
       "      <td>0.37</td>\n",
       "    </tr>\n",
       "    <tr>\n",
       "      <th>1</th>\n",
       "      <td>highway</td>\n",
       "      <td>4</td>\n",
       "      <td>0.95</td>\n",
       "      <td>45</td>\n",
       "      <td>daylight</td>\n",
       "      <td>foggy</td>\n",
       "      <td>False</td>\n",
       "      <td>True</td>\n",
       "      <td>evening</td>\n",
       "      <td>False</td>\n",
       "      <td>True</td>\n",
       "      <td>1</td>\n",
       "      <td>0.40</td>\n",
       "    </tr>\n",
       "    <tr>\n",
       "      <th>2</th>\n",
       "      <td>rural</td>\n",
       "      <td>1</td>\n",
       "      <td>0.72</td>\n",
       "      <td>25</td>\n",
       "      <td>night</td>\n",
       "      <td>rainy</td>\n",
       "      <td>False</td>\n",
       "      <td>False</td>\n",
       "      <td>evening</td>\n",
       "      <td>True</td>\n",
       "      <td>False</td>\n",
       "      <td>1</td>\n",
       "      <td>0.55</td>\n",
       "    </tr>\n",
       "    <tr>\n",
       "      <th>3</th>\n",
       "      <td>rural</td>\n",
       "      <td>4</td>\n",
       "      <td>0.86</td>\n",
       "      <td>70</td>\n",
       "      <td>dim</td>\n",
       "      <td>foggy</td>\n",
       "      <td>True</td>\n",
       "      <td>False</td>\n",
       "      <td>morning</td>\n",
       "      <td>True</td>\n",
       "      <td>True</td>\n",
       "      <td>1</td>\n",
       "      <td>0.56</td>\n",
       "    </tr>\n",
       "    <tr>\n",
       "      <th>4</th>\n",
       "      <td>highway</td>\n",
       "      <td>1</td>\n",
       "      <td>0.00</td>\n",
       "      <td>60</td>\n",
       "      <td>night</td>\n",
       "      <td>rainy</td>\n",
       "      <td>True</td>\n",
       "      <td>True</td>\n",
       "      <td>morning</td>\n",
       "      <td>True</td>\n",
       "      <td>True</td>\n",
       "      <td>3</td>\n",
       "      <td>0.54</td>\n",
       "    </tr>\n",
       "  </tbody>\n",
       "</table>\n",
       "</div>"
      ],
      "text/plain": [
       "  road_type  num_lanes  curvature  speed_limit  lighting weather  \\\n",
       "0     rural          2       0.72           60  daylight   clear   \n",
       "1   highway          4       0.95           45  daylight   foggy   \n",
       "2     rural          1       0.72           25     night   rainy   \n",
       "3     rural          4       0.86           70       dim   foggy   \n",
       "4   highway          1       0.00           60     night   rainy   \n",
       "\n",
       "   road_signs_present  public_road time_of_day  holiday  school_season  \\\n",
       "0                True        False   afternoon    False          False   \n",
       "1               False         True     evening    False           True   \n",
       "2               False        False     evening     True          False   \n",
       "3                True        False     morning     True           True   \n",
       "4                True         True     morning     True           True   \n",
       "\n",
       "   num_reported_accidents  accident_risk  \n",
       "0                       2           0.37  \n",
       "1                       1           0.40  \n",
       "2                       1           0.55  \n",
       "3                       1           0.56  \n",
       "4                       3           0.54  "
      ]
     },
     "execution_count": 3,
     "metadata": {},
     "output_type": "execute_result"
    }
   ],
   "source": [
    "org = []\n",
    "for n in [2, 10, 100]:\n",
    "    df = pd.read_csv(f'/kaggle/input/simulated-roads-accident-data/synthetic_road_accidents_{n}k.csv')\n",
    "    org.append(df)\n",
    "\n",
    "org = pd.concat(org, axis=0)\n",
    "org.head()"
   ]
  },
  {
   "cell_type": "code",
   "execution_count": 4,
   "id": "d1880e02",
   "metadata": {
    "execution": {
     "iopub.execute_input": "2025-10-27T09:29:10.362956Z",
     "iopub.status.busy": "2025-10-27T09:29:10.362650Z",
     "iopub.status.idle": "2025-10-27T09:29:10.394726Z",
     "shell.execute_reply": "2025-10-27T09:29:10.393571Z"
    },
    "papermill": {
     "duration": 0.040677,
     "end_time": "2025-10-27T09:29:10.396803",
     "exception": false,
     "start_time": "2025-10-27T09:29:10.356126",
     "status": "completed"
    },
    "tags": []
   },
   "outputs": [],
   "source": [
    "train = pd.concat([train, org], axis=0, ignore_index=True)"
   ]
  },
  {
   "cell_type": "code",
   "execution_count": 5,
   "id": "4e8b3b5b",
   "metadata": {
    "execution": {
     "iopub.execute_input": "2025-10-27T09:29:10.409116Z",
     "iopub.status.busy": "2025-10-27T09:29:10.408785Z",
     "iopub.status.idle": "2025-10-27T09:29:10.415059Z",
     "shell.execute_reply": "2025-10-27T09:29:10.414090Z"
    },
    "papermill": {
     "duration": 0.014208,
     "end_time": "2025-10-27T09:29:10.416611",
     "exception": false,
     "start_time": "2025-10-27T09:29:10.402403",
     "status": "completed"
    },
    "tags": []
   },
   "outputs": [
    {
     "data": {
      "text/plain": [
       "(112000, 13)"
      ]
     },
     "execution_count": 5,
     "metadata": {},
     "output_type": "execute_result"
    }
   ],
   "source": [
    "org.shape"
   ]
  },
  {
   "cell_type": "code",
   "execution_count": 6,
   "id": "a2a68fc2",
   "metadata": {
    "execution": {
     "iopub.execute_input": "2025-10-27T09:29:10.429999Z",
     "iopub.status.busy": "2025-10-27T09:29:10.429131Z",
     "iopub.status.idle": "2025-10-27T09:29:10.435435Z",
     "shell.execute_reply": "2025-10-27T09:29:10.434540Z"
    },
    "papermill": {
     "duration": 0.014643,
     "end_time": "2025-10-27T09:29:10.437019",
     "exception": false,
     "start_time": "2025-10-27T09:29:10.422376",
     "status": "completed"
    },
    "tags": []
   },
   "outputs": [
    {
     "data": {
      "text/plain": [
       "(629754, 13)"
      ]
     },
     "execution_count": 6,
     "metadata": {},
     "output_type": "execute_result"
    }
   ],
   "source": [
    "train.shape"
   ]
  },
  {
   "cell_type": "code",
   "execution_count": 7,
   "id": "3436211a",
   "metadata": {
    "execution": {
     "iopub.execute_input": "2025-10-27T09:29:10.449910Z",
     "iopub.status.busy": "2025-10-27T09:29:10.449329Z",
     "iopub.status.idle": "2025-10-27T09:29:10.463532Z",
     "shell.execute_reply": "2025-10-27T09:29:10.462721Z"
    },
    "papermill": {
     "duration": 0.022042,
     "end_time": "2025-10-27T09:29:10.464991",
     "exception": false,
     "start_time": "2025-10-27T09:29:10.442949",
     "status": "completed"
    },
    "tags": []
   },
   "outputs": [
    {
     "data": {
      "text/html": [
       "<div>\n",
       "<style scoped>\n",
       "    .dataframe tbody tr th:only-of-type {\n",
       "        vertical-align: middle;\n",
       "    }\n",
       "\n",
       "    .dataframe tbody tr th {\n",
       "        vertical-align: top;\n",
       "    }\n",
       "\n",
       "    .dataframe thead th {\n",
       "        text-align: right;\n",
       "    }\n",
       "</style>\n",
       "<table border=\"1\" class=\"dataframe\">\n",
       "  <thead>\n",
       "    <tr style=\"text-align: right;\">\n",
       "      <th></th>\n",
       "      <th>road_type</th>\n",
       "      <th>num_lanes</th>\n",
       "      <th>curvature</th>\n",
       "      <th>speed_limit</th>\n",
       "      <th>lighting</th>\n",
       "      <th>weather</th>\n",
       "      <th>road_signs_present</th>\n",
       "      <th>public_road</th>\n",
       "      <th>time_of_day</th>\n",
       "      <th>holiday</th>\n",
       "      <th>school_season</th>\n",
       "      <th>num_reported_accidents</th>\n",
       "      <th>accident_risk</th>\n",
       "    </tr>\n",
       "  </thead>\n",
       "  <tbody>\n",
       "    <tr>\n",
       "      <th>0</th>\n",
       "      <td>urban</td>\n",
       "      <td>2</td>\n",
       "      <td>0.06</td>\n",
       "      <td>35</td>\n",
       "      <td>daylight</td>\n",
       "      <td>rainy</td>\n",
       "      <td>False</td>\n",
       "      <td>True</td>\n",
       "      <td>afternoon</td>\n",
       "      <td>False</td>\n",
       "      <td>True</td>\n",
       "      <td>1</td>\n",
       "      <td>0.13</td>\n",
       "    </tr>\n",
       "    <tr>\n",
       "      <th>1</th>\n",
       "      <td>urban</td>\n",
       "      <td>4</td>\n",
       "      <td>0.99</td>\n",
       "      <td>35</td>\n",
       "      <td>daylight</td>\n",
       "      <td>clear</td>\n",
       "      <td>True</td>\n",
       "      <td>False</td>\n",
       "      <td>evening</td>\n",
       "      <td>True</td>\n",
       "      <td>True</td>\n",
       "      <td>0</td>\n",
       "      <td>0.35</td>\n",
       "    </tr>\n",
       "    <tr>\n",
       "      <th>2</th>\n",
       "      <td>rural</td>\n",
       "      <td>4</td>\n",
       "      <td>0.63</td>\n",
       "      <td>70</td>\n",
       "      <td>dim</td>\n",
       "      <td>clear</td>\n",
       "      <td>False</td>\n",
       "      <td>True</td>\n",
       "      <td>morning</td>\n",
       "      <td>True</td>\n",
       "      <td>False</td>\n",
       "      <td>2</td>\n",
       "      <td>0.30</td>\n",
       "    </tr>\n",
       "    <tr>\n",
       "      <th>3</th>\n",
       "      <td>highway</td>\n",
       "      <td>4</td>\n",
       "      <td>0.07</td>\n",
       "      <td>35</td>\n",
       "      <td>dim</td>\n",
       "      <td>rainy</td>\n",
       "      <td>True</td>\n",
       "      <td>True</td>\n",
       "      <td>morning</td>\n",
       "      <td>False</td>\n",
       "      <td>False</td>\n",
       "      <td>1</td>\n",
       "      <td>0.21</td>\n",
       "    </tr>\n",
       "    <tr>\n",
       "      <th>4</th>\n",
       "      <td>rural</td>\n",
       "      <td>1</td>\n",
       "      <td>0.58</td>\n",
       "      <td>60</td>\n",
       "      <td>daylight</td>\n",
       "      <td>foggy</td>\n",
       "      <td>False</td>\n",
       "      <td>False</td>\n",
       "      <td>evening</td>\n",
       "      <td>True</td>\n",
       "      <td>False</td>\n",
       "      <td>1</td>\n",
       "      <td>0.56</td>\n",
       "    </tr>\n",
       "  </tbody>\n",
       "</table>\n",
       "</div>"
      ],
      "text/plain": [
       "  road_type  num_lanes  curvature  speed_limit  lighting weather  \\\n",
       "0     urban          2       0.06           35  daylight   rainy   \n",
       "1     urban          4       0.99           35  daylight   clear   \n",
       "2     rural          4       0.63           70       dim   clear   \n",
       "3   highway          4       0.07           35       dim   rainy   \n",
       "4     rural          1       0.58           60  daylight   foggy   \n",
       "\n",
       "   road_signs_present  public_road time_of_day  holiday  school_season  \\\n",
       "0               False         True   afternoon    False           True   \n",
       "1                True        False     evening     True           True   \n",
       "2               False         True     morning     True          False   \n",
       "3                True         True     morning    False          False   \n",
       "4               False        False     evening     True          False   \n",
       "\n",
       "   num_reported_accidents  accident_risk  \n",
       "0                       1           0.13  \n",
       "1                       0           0.35  \n",
       "2                       2           0.30  \n",
       "3                       1           0.21  \n",
       "4                       1           0.56  "
      ]
     },
     "execution_count": 7,
     "metadata": {},
     "output_type": "execute_result"
    }
   ],
   "source": [
    "train.head()"
   ]
  },
  {
   "cell_type": "code",
   "execution_count": 8,
   "id": "0a2fd7de",
   "metadata": {
    "execution": {
     "iopub.execute_input": "2025-10-27T09:29:10.478882Z",
     "iopub.status.busy": "2025-10-27T09:29:10.478333Z",
     "iopub.status.idle": "2025-10-27T09:29:10.484977Z",
     "shell.execute_reply": "2025-10-27T09:29:10.484144Z"
    },
    "papermill": {
     "duration": 0.015148,
     "end_time": "2025-10-27T09:29:10.486625",
     "exception": false,
     "start_time": "2025-10-27T09:29:10.471477",
     "status": "completed"
    },
    "tags": []
   },
   "outputs": [
    {
     "data": {
      "text/plain": [
       "road_type                  object\n",
       "num_lanes                   int64\n",
       "curvature                 float64\n",
       "speed_limit                 int64\n",
       "lighting                   object\n",
       "weather                    object\n",
       "road_signs_present           bool\n",
       "public_road                  bool\n",
       "time_of_day                object\n",
       "holiday                      bool\n",
       "school_season                bool\n",
       "num_reported_accidents      int64\n",
       "accident_risk             float64\n",
       "dtype: object"
      ]
     },
     "execution_count": 8,
     "metadata": {},
     "output_type": "execute_result"
    }
   ],
   "source": [
    "train.dtypes"
   ]
  },
  {
   "cell_type": "code",
   "execution_count": 9,
   "id": "22b85aff",
   "metadata": {
    "execution": {
     "iopub.execute_input": "2025-10-27T09:29:10.500155Z",
     "iopub.status.busy": "2025-10-27T09:29:10.499839Z",
     "iopub.status.idle": "2025-10-27T09:29:10.504479Z",
     "shell.execute_reply": "2025-10-27T09:29:10.503590Z"
    },
    "papermill": {
     "duration": 0.013099,
     "end_time": "2025-10-27T09:29:10.506048",
     "exception": false,
     "start_time": "2025-10-27T09:29:10.492949",
     "status": "completed"
    },
    "tags": []
   },
   "outputs": [],
   "source": [
    "features = ['road_type', 'num_lanes', 'curv_bin', 'speed_limit', 'lighting',\n",
    "       'weather', 'road_signs_present', 'public_road', 'time_of_day',\n",
    "       'holiday', 'school_season', 'num_reported_accidents']\n",
    "\n",
    "target = 'accident_risk'"
   ]
  },
  {
   "cell_type": "markdown",
   "id": "d4acb85a",
   "metadata": {
    "papermill": {
     "duration": 0.005673,
     "end_time": "2025-10-27T09:29:10.517906",
     "exception": false,
     "start_time": "2025-10-27T09:29:10.512233",
     "status": "completed"
    },
    "tags": []
   },
   "source": [
    "# Feature Engineering"
   ]
  },
  {
   "cell_type": "markdown",
   "id": "89df3f6a",
   "metadata": {
    "papermill": {
     "duration": 0.006019,
     "end_time": "2025-10-27T09:29:10.529761",
     "exception": false,
     "start_time": "2025-10-27T09:29:10.523742",
     "status": "completed"
    },
    "tags": []
   },
   "source": [
    "## Feature Binning"
   ]
  },
  {
   "cell_type": "code",
   "execution_count": 10,
   "id": "76b0e52a",
   "metadata": {
    "execution": {
     "iopub.execute_input": "2025-10-27T09:29:10.542829Z",
     "iopub.status.busy": "2025-10-27T09:29:10.542540Z",
     "iopub.status.idle": "2025-10-27T09:29:10.625544Z",
     "shell.execute_reply": "2025-10-27T09:29:10.624641Z"
    },
    "papermill": {
     "duration": 0.091834,
     "end_time": "2025-10-27T09:29:10.627582",
     "exception": false,
     "start_time": "2025-10-27T09:29:10.535748",
     "status": "completed"
    },
    "tags": []
   },
   "outputs": [],
   "source": [
    "labels = ['low', 'medium', 'high', 'extreme high']\n",
    "train['curv_bin'] = pd.qcut(train['curvature'], q=4, labels=labels)\n",
    "test['curv_bin'] = pd.qcut(test['curvature'], q=4, labels=labels)"
   ]
  },
  {
   "cell_type": "markdown",
   "id": "1c6ce4a0",
   "metadata": {
    "papermill": {
     "duration": 0.006367,
     "end_time": "2025-10-27T09:29:10.640068",
     "exception": false,
     "start_time": "2025-10-27T09:29:10.633701",
     "status": "completed"
    },
    "tags": []
   },
   "source": [
    "## Creating base risk feature based on domain knowledge"
   ]
  },
  {
   "cell_type": "code",
   "execution_count": 11,
   "id": "55dddb4b",
   "metadata": {
    "execution": {
     "iopub.execute_input": "2025-10-27T09:29:10.653256Z",
     "iopub.status.busy": "2025-10-27T09:29:10.652868Z",
     "iopub.status.idle": "2025-10-27T09:29:10.659116Z",
     "shell.execute_reply": "2025-10-27T09:29:10.658300Z"
    },
    "papermill": {
     "duration": 0.014598,
     "end_time": "2025-10-27T09:29:10.660552",
     "exception": false,
     "start_time": "2025-10-27T09:29:10.645954",
     "status": "completed"
    },
    "tags": []
   },
   "outputs": [],
   "source": [
    "def risk(df):\n",
    "    base_risk = (0.4 * df['curvature'] +\n",
    "                 0.2 * (df['lighting'] == 'night').astype(int) +\n",
    "                 0.1 * (df[\"weather\"] != \"clear\").astype(int) +\n",
    "                 0.2 * (df[\"speed_limit\"] >= 60).astype(int) +\n",
    "                 0.1 * (np.array(df[\"num_reported_accidents\"] > 4).astype(int)\n",
    "    ))\n",
    "                 \n",
    "    noise = np.random.normal(0, 0.05, df.shape[0])\n",
    "    risk_score = np.clip(base_risk + noise, 0, 1)\n",
    "    df[\"simulated_risk\"] = np.round(risk_score, 2)\n",
    "\n",
    "    return df"
   ]
  },
  {
   "cell_type": "markdown",
   "id": "17f6b77f",
   "metadata": {
    "papermill": {
     "duration": 0.005654,
     "end_time": "2025-10-27T09:29:10.672068",
     "exception": false,
     "start_time": "2025-10-27T09:29:10.666414",
     "status": "completed"
    },
    "tags": []
   },
   "source": [
    "### Key idea for creating the <code>simulated_risk</code> feature is that I have created <code>base_risk</code> variable based on weighted proportion of factors that contributes towards accident risk. Added some noise to simulate to real-world scenario and clipped the values between 0 and 1."
   ]
  },
  {
   "cell_type": "code",
   "execution_count": 12,
   "id": "f777b68b",
   "metadata": {
    "execution": {
     "iopub.execute_input": "2025-10-27T09:29:10.685454Z",
     "iopub.status.busy": "2025-10-27T09:29:10.684701Z",
     "iopub.status.idle": "2025-10-27T09:29:10.903985Z",
     "shell.execute_reply": "2025-10-27T09:29:10.903000Z"
    },
    "papermill": {
     "duration": 0.22784,
     "end_time": "2025-10-27T09:29:10.905785",
     "exception": false,
     "start_time": "2025-10-27T09:29:10.677945",
     "status": "completed"
    },
    "tags": []
   },
   "outputs": [],
   "source": [
    "train = risk(train)\n",
    "test = risk(test)"
   ]
  },
  {
   "cell_type": "code",
   "execution_count": 13,
   "id": "14398fce",
   "metadata": {
    "execution": {
     "iopub.execute_input": "2025-10-27T09:29:10.919975Z",
     "iopub.status.busy": "2025-10-27T09:29:10.918942Z",
     "iopub.status.idle": "2025-10-27T09:29:10.934717Z",
     "shell.execute_reply": "2025-10-27T09:29:10.933786Z"
    },
    "papermill": {
     "duration": 0.024371,
     "end_time": "2025-10-27T09:29:10.936358",
     "exception": false,
     "start_time": "2025-10-27T09:29:10.911987",
     "status": "completed"
    },
    "tags": []
   },
   "outputs": [
    {
     "data": {
      "text/html": [
       "<div>\n",
       "<style scoped>\n",
       "    .dataframe tbody tr th:only-of-type {\n",
       "        vertical-align: middle;\n",
       "    }\n",
       "\n",
       "    .dataframe tbody tr th {\n",
       "        vertical-align: top;\n",
       "    }\n",
       "\n",
       "    .dataframe thead th {\n",
       "        text-align: right;\n",
       "    }\n",
       "</style>\n",
       "<table border=\"1\" class=\"dataframe\">\n",
       "  <thead>\n",
       "    <tr style=\"text-align: right;\">\n",
       "      <th></th>\n",
       "      <th>road_type</th>\n",
       "      <th>num_lanes</th>\n",
       "      <th>curvature</th>\n",
       "      <th>speed_limit</th>\n",
       "      <th>lighting</th>\n",
       "      <th>weather</th>\n",
       "      <th>road_signs_present</th>\n",
       "      <th>public_road</th>\n",
       "      <th>time_of_day</th>\n",
       "      <th>holiday</th>\n",
       "      <th>school_season</th>\n",
       "      <th>num_reported_accidents</th>\n",
       "      <th>accident_risk</th>\n",
       "      <th>curv_bin</th>\n",
       "      <th>simulated_risk</th>\n",
       "    </tr>\n",
       "  </thead>\n",
       "  <tbody>\n",
       "    <tr>\n",
       "      <th>0</th>\n",
       "      <td>urban</td>\n",
       "      <td>2</td>\n",
       "      <td>0.06</td>\n",
       "      <td>35</td>\n",
       "      <td>daylight</td>\n",
       "      <td>rainy</td>\n",
       "      <td>False</td>\n",
       "      <td>True</td>\n",
       "      <td>afternoon</td>\n",
       "      <td>False</td>\n",
       "      <td>True</td>\n",
       "      <td>1</td>\n",
       "      <td>0.13</td>\n",
       "      <td>low</td>\n",
       "      <td>0.12</td>\n",
       "    </tr>\n",
       "    <tr>\n",
       "      <th>1</th>\n",
       "      <td>urban</td>\n",
       "      <td>4</td>\n",
       "      <td>0.99</td>\n",
       "      <td>35</td>\n",
       "      <td>daylight</td>\n",
       "      <td>clear</td>\n",
       "      <td>True</td>\n",
       "      <td>False</td>\n",
       "      <td>evening</td>\n",
       "      <td>True</td>\n",
       "      <td>True</td>\n",
       "      <td>0</td>\n",
       "      <td>0.35</td>\n",
       "      <td>extreme high</td>\n",
       "      <td>0.45</td>\n",
       "    </tr>\n",
       "    <tr>\n",
       "      <th>2</th>\n",
       "      <td>rural</td>\n",
       "      <td>4</td>\n",
       "      <td>0.63</td>\n",
       "      <td>70</td>\n",
       "      <td>dim</td>\n",
       "      <td>clear</td>\n",
       "      <td>False</td>\n",
       "      <td>True</td>\n",
       "      <td>morning</td>\n",
       "      <td>True</td>\n",
       "      <td>False</td>\n",
       "      <td>2</td>\n",
       "      <td>0.30</td>\n",
       "      <td>high</td>\n",
       "      <td>0.49</td>\n",
       "    </tr>\n",
       "    <tr>\n",
       "      <th>3</th>\n",
       "      <td>highway</td>\n",
       "      <td>4</td>\n",
       "      <td>0.07</td>\n",
       "      <td>35</td>\n",
       "      <td>dim</td>\n",
       "      <td>rainy</td>\n",
       "      <td>True</td>\n",
       "      <td>True</td>\n",
       "      <td>morning</td>\n",
       "      <td>False</td>\n",
       "      <td>False</td>\n",
       "      <td>1</td>\n",
       "      <td>0.21</td>\n",
       "      <td>low</td>\n",
       "      <td>0.16</td>\n",
       "    </tr>\n",
       "    <tr>\n",
       "      <th>4</th>\n",
       "      <td>rural</td>\n",
       "      <td>1</td>\n",
       "      <td>0.58</td>\n",
       "      <td>60</td>\n",
       "      <td>daylight</td>\n",
       "      <td>foggy</td>\n",
       "      <td>False</td>\n",
       "      <td>False</td>\n",
       "      <td>evening</td>\n",
       "      <td>True</td>\n",
       "      <td>False</td>\n",
       "      <td>1</td>\n",
       "      <td>0.56</td>\n",
       "      <td>high</td>\n",
       "      <td>0.52</td>\n",
       "    </tr>\n",
       "  </tbody>\n",
       "</table>\n",
       "</div>"
      ],
      "text/plain": [
       "  road_type  num_lanes  curvature  speed_limit  lighting weather  \\\n",
       "0     urban          2       0.06           35  daylight   rainy   \n",
       "1     urban          4       0.99           35  daylight   clear   \n",
       "2     rural          4       0.63           70       dim   clear   \n",
       "3   highway          4       0.07           35       dim   rainy   \n",
       "4     rural          1       0.58           60  daylight   foggy   \n",
       "\n",
       "   road_signs_present  public_road time_of_day  holiday  school_season  \\\n",
       "0               False         True   afternoon    False           True   \n",
       "1                True        False     evening     True           True   \n",
       "2               False         True     morning     True          False   \n",
       "3                True         True     morning    False          False   \n",
       "4               False        False     evening     True          False   \n",
       "\n",
       "   num_reported_accidents  accident_risk      curv_bin  simulated_risk  \n",
       "0                       1           0.13           low            0.12  \n",
       "1                       0           0.35  extreme high            0.45  \n",
       "2                       2           0.30          high            0.49  \n",
       "3                       1           0.21           low            0.16  \n",
       "4                       1           0.56          high            0.52  "
      ]
     },
     "execution_count": 13,
     "metadata": {},
     "output_type": "execute_result"
    }
   ],
   "source": [
    "train.head()"
   ]
  },
  {
   "cell_type": "code",
   "execution_count": 14,
   "id": "a2875ef9",
   "metadata": {
    "execution": {
     "iopub.execute_input": "2025-10-27T09:29:10.950072Z",
     "iopub.status.busy": "2025-10-27T09:29:10.949777Z",
     "iopub.status.idle": "2025-10-27T09:29:10.957461Z",
     "shell.execute_reply": "2025-10-27T09:29:10.956254Z"
    },
    "papermill": {
     "duration": 0.01647,
     "end_time": "2025-10-27T09:29:10.959046",
     "exception": false,
     "start_time": "2025-10-27T09:29:10.942576",
     "status": "completed"
    },
    "tags": []
   },
   "outputs": [
    {
     "data": {
      "text/plain": [
       "road_type                   object\n",
       "num_lanes                    int64\n",
       "curvature                  float64\n",
       "speed_limit                  int64\n",
       "lighting                    object\n",
       "weather                     object\n",
       "road_signs_present            bool\n",
       "public_road                   bool\n",
       "time_of_day                 object\n",
       "holiday                       bool\n",
       "school_season                 bool\n",
       "num_reported_accidents       int64\n",
       "accident_risk              float64\n",
       "curv_bin                  category\n",
       "simulated_risk             float64\n",
       "dtype: object"
      ]
     },
     "execution_count": 14,
     "metadata": {},
     "output_type": "execute_result"
    }
   ],
   "source": [
    "train.dtypes"
   ]
  },
  {
   "cell_type": "code",
   "execution_count": 15,
   "id": "5012ad56",
   "metadata": {
    "execution": {
     "iopub.execute_input": "2025-10-27T09:29:10.973098Z",
     "iopub.status.busy": "2025-10-27T09:29:10.972806Z",
     "iopub.status.idle": "2025-10-27T09:29:10.984519Z",
     "shell.execute_reply": "2025-10-27T09:29:10.983363Z"
    },
    "papermill": {
     "duration": 0.020573,
     "end_time": "2025-10-27T09:29:10.986117",
     "exception": false,
     "start_time": "2025-10-27T09:29:10.965544",
     "status": "completed"
    },
    "tags": []
   },
   "outputs": [],
   "source": [
    "num_cols = test.select_dtypes(include='float').columns.to_list()\n",
    "cat_cols = test.select_dtypes(include=['object', 'category']).columns.to_list()"
   ]
  },
  {
   "cell_type": "code",
   "execution_count": 16,
   "id": "e7342052",
   "metadata": {
    "execution": {
     "iopub.execute_input": "2025-10-27T09:29:11.000684Z",
     "iopub.status.busy": "2025-10-27T09:29:11.000373Z",
     "iopub.status.idle": "2025-10-27T09:29:11.198647Z",
     "shell.execute_reply": "2025-10-27T09:29:11.197423Z"
    },
    "papermill": {
     "duration": 0.207676,
     "end_time": "2025-10-27T09:29:11.200325",
     "exception": false,
     "start_time": "2025-10-27T09:29:10.992649",
     "status": "completed"
    },
    "tags": []
   },
   "outputs": [],
   "source": [
    "for c in cat_cols:\n",
    "    train[c] = pd.Categorical(train[c]).codes\n",
    "    test[c] = pd.Categorical(test[c]).codes"
   ]
  },
  {
   "cell_type": "code",
   "execution_count": 17,
   "id": "fb99ec70",
   "metadata": {
    "execution": {
     "iopub.execute_input": "2025-10-27T09:29:11.214233Z",
     "iopub.status.busy": "2025-10-27T09:29:11.213881Z",
     "iopub.status.idle": "2025-10-27T09:29:11.228408Z",
     "shell.execute_reply": "2025-10-27T09:29:11.227316Z"
    },
    "papermill": {
     "duration": 0.023405,
     "end_time": "2025-10-27T09:29:11.230003",
     "exception": false,
     "start_time": "2025-10-27T09:29:11.206598",
     "status": "completed"
    },
    "tags": []
   },
   "outputs": [
    {
     "data": {
      "text/html": [
       "<div>\n",
       "<style scoped>\n",
       "    .dataframe tbody tr th:only-of-type {\n",
       "        vertical-align: middle;\n",
       "    }\n",
       "\n",
       "    .dataframe tbody tr th {\n",
       "        vertical-align: top;\n",
       "    }\n",
       "\n",
       "    .dataframe thead th {\n",
       "        text-align: right;\n",
       "    }\n",
       "</style>\n",
       "<table border=\"1\" class=\"dataframe\">\n",
       "  <thead>\n",
       "    <tr style=\"text-align: right;\">\n",
       "      <th></th>\n",
       "      <th>road_type</th>\n",
       "      <th>num_lanes</th>\n",
       "      <th>curvature</th>\n",
       "      <th>speed_limit</th>\n",
       "      <th>lighting</th>\n",
       "      <th>weather</th>\n",
       "      <th>road_signs_present</th>\n",
       "      <th>public_road</th>\n",
       "      <th>time_of_day</th>\n",
       "      <th>holiday</th>\n",
       "      <th>school_season</th>\n",
       "      <th>num_reported_accidents</th>\n",
       "      <th>accident_risk</th>\n",
       "      <th>curv_bin</th>\n",
       "      <th>simulated_risk</th>\n",
       "    </tr>\n",
       "  </thead>\n",
       "  <tbody>\n",
       "    <tr>\n",
       "      <th>0</th>\n",
       "      <td>2</td>\n",
       "      <td>2</td>\n",
       "      <td>0.06</td>\n",
       "      <td>35</td>\n",
       "      <td>0</td>\n",
       "      <td>2</td>\n",
       "      <td>False</td>\n",
       "      <td>True</td>\n",
       "      <td>0</td>\n",
       "      <td>False</td>\n",
       "      <td>True</td>\n",
       "      <td>1</td>\n",
       "      <td>0.13</td>\n",
       "      <td>0</td>\n",
       "      <td>0.12</td>\n",
       "    </tr>\n",
       "    <tr>\n",
       "      <th>1</th>\n",
       "      <td>2</td>\n",
       "      <td>4</td>\n",
       "      <td>0.99</td>\n",
       "      <td>35</td>\n",
       "      <td>0</td>\n",
       "      <td>0</td>\n",
       "      <td>True</td>\n",
       "      <td>False</td>\n",
       "      <td>1</td>\n",
       "      <td>True</td>\n",
       "      <td>True</td>\n",
       "      <td>0</td>\n",
       "      <td>0.35</td>\n",
       "      <td>3</td>\n",
       "      <td>0.45</td>\n",
       "    </tr>\n",
       "    <tr>\n",
       "      <th>2</th>\n",
       "      <td>1</td>\n",
       "      <td>4</td>\n",
       "      <td>0.63</td>\n",
       "      <td>70</td>\n",
       "      <td>1</td>\n",
       "      <td>0</td>\n",
       "      <td>False</td>\n",
       "      <td>True</td>\n",
       "      <td>2</td>\n",
       "      <td>True</td>\n",
       "      <td>False</td>\n",
       "      <td>2</td>\n",
       "      <td>0.30</td>\n",
       "      <td>2</td>\n",
       "      <td>0.49</td>\n",
       "    </tr>\n",
       "    <tr>\n",
       "      <th>3</th>\n",
       "      <td>0</td>\n",
       "      <td>4</td>\n",
       "      <td>0.07</td>\n",
       "      <td>35</td>\n",
       "      <td>1</td>\n",
       "      <td>2</td>\n",
       "      <td>True</td>\n",
       "      <td>True</td>\n",
       "      <td>2</td>\n",
       "      <td>False</td>\n",
       "      <td>False</td>\n",
       "      <td>1</td>\n",
       "      <td>0.21</td>\n",
       "      <td>0</td>\n",
       "      <td>0.16</td>\n",
       "    </tr>\n",
       "    <tr>\n",
       "      <th>4</th>\n",
       "      <td>1</td>\n",
       "      <td>1</td>\n",
       "      <td>0.58</td>\n",
       "      <td>60</td>\n",
       "      <td>0</td>\n",
       "      <td>1</td>\n",
       "      <td>False</td>\n",
       "      <td>False</td>\n",
       "      <td>1</td>\n",
       "      <td>True</td>\n",
       "      <td>False</td>\n",
       "      <td>1</td>\n",
       "      <td>0.56</td>\n",
       "      <td>2</td>\n",
       "      <td>0.52</td>\n",
       "    </tr>\n",
       "  </tbody>\n",
       "</table>\n",
       "</div>"
      ],
      "text/plain": [
       "   road_type  num_lanes  curvature  speed_limit  lighting  weather  \\\n",
       "0          2          2       0.06           35         0        2   \n",
       "1          2          4       0.99           35         0        0   \n",
       "2          1          4       0.63           70         1        0   \n",
       "3          0          4       0.07           35         1        2   \n",
       "4          1          1       0.58           60         0        1   \n",
       "\n",
       "   road_signs_present  public_road  time_of_day  holiday  school_season  \\\n",
       "0               False         True            0    False           True   \n",
       "1                True        False            1     True           True   \n",
       "2               False         True            2     True          False   \n",
       "3                True         True            2    False          False   \n",
       "4               False        False            1     True          False   \n",
       "\n",
       "   num_reported_accidents  accident_risk  curv_bin  simulated_risk  \n",
       "0                       1           0.13         0            0.12  \n",
       "1                       0           0.35         3            0.45  \n",
       "2                       2           0.30         2            0.49  \n",
       "3                       1           0.21         0            0.16  \n",
       "4                       1           0.56         2            0.52  "
      ]
     },
     "execution_count": 17,
     "metadata": {},
     "output_type": "execute_result"
    }
   ],
   "source": [
    "train.head()"
   ]
  },
  {
   "cell_type": "markdown",
   "id": "20aecee7",
   "metadata": {
    "papermill": {
     "duration": 0.006435,
     "end_time": "2025-10-27T09:29:11.243157",
     "exception": false,
     "start_time": "2025-10-27T09:29:11.236722",
     "status": "completed"
    },
    "tags": []
   },
   "source": [
    "# Splitting the data into training and testing sets\n",
    "- Use log transformation on the target variable"
   ]
  },
  {
   "cell_type": "code",
   "execution_count": 18,
   "id": "618c0cec",
   "metadata": {
    "execution": {
     "iopub.execute_input": "2025-10-27T09:29:11.257972Z",
     "iopub.status.busy": "2025-10-27T09:29:11.256919Z",
     "iopub.status.idle": "2025-10-27T09:29:11.418751Z",
     "shell.execute_reply": "2025-10-27T09:29:11.417642Z"
    },
    "papermill": {
     "duration": 0.170946,
     "end_time": "2025-10-27T09:29:11.420496",
     "exception": false,
     "start_time": "2025-10-27T09:29:11.249550",
     "status": "completed"
    },
    "tags": []
   },
   "outputs": [],
   "source": [
    "X = train.copy()\n",
    "y = X.pop('accident_risk')\n",
    "\n",
    "X_train, X_valid, y_train, y_valid = train_test_split(X, y, test_size=0.25, random_state=2)"
   ]
  },
  {
   "cell_type": "markdown",
   "id": "d1391bc9",
   "metadata": {
    "papermill": {
     "duration": 0.00658,
     "end_time": "2025-10-27T09:29:11.434254",
     "exception": false,
     "start_time": "2025-10-27T09:29:11.427674",
     "status": "completed"
    },
    "tags": []
   },
   "source": [
    "# Conducting optuna study which includes:\n",
    "- setting parameters\n",
    "- use XGBoost as the predictive model\n",
    "- Extract parameter importance"
   ]
  },
  {
   "cell_type": "code",
   "execution_count": 19,
   "id": "21a950b3",
   "metadata": {
    "collapsed": true,
    "execution": {
     "iopub.execute_input": "2025-10-27T09:29:11.449308Z",
     "iopub.status.busy": "2025-10-27T09:29:11.448878Z",
     "iopub.status.idle": "2025-10-27T09:49:10.500544Z",
     "shell.execute_reply": "2025-10-27T09:49:10.499611Z"
    },
    "jupyter": {
     "outputs_hidden": true
    },
    "papermill": {
     "duration": 1199.06709,
     "end_time": "2025-10-27T09:49:10.508489",
     "exception": false,
     "start_time": "2025-10-27T09:29:11.441399",
     "status": "completed"
    },
    "tags": []
   },
   "outputs": [
    {
     "name": "stderr",
     "output_type": "stream",
     "text": [
      "[I 2025-10-27 09:29:11,453] A new study created in memory with name: XGB-Optimization\n"
     ]
    },
    {
     "data": {
      "application/vnd.jupyter.widget-view+json": {
       "model_id": "2dcfbda5cc74411f80841b0ce8b4e0df",
       "version_major": 2,
       "version_minor": 0
      },
      "text/plain": [
       "  0%|          | 0/15 [00:00<?, ?it/s]"
      ]
     },
     "metadata": {},
     "output_type": "display_data"
    },
    {
     "name": "stdout",
     "output_type": "stream",
     "text": [
      "[I 2025-10-27 09:31:26,599] Trial 0 finished with value: 0.07987144149574567 and parameters: {'n_estimators': 856, 'learning_rate': 0.0013012351001391459, 'max_depth': 9, 'alpha': 0.002434297333167853, 'lambda': 1.7755217176265845, 'subsample': 0.9297068796845461, 'colsample_bytree': 0.8547182720915532, 'min_child_weight': 3}. Best is trial 0 with value: 0.07987144149574567.\n",
      "[I 2025-10-27 09:32:36,902] Trial 1 finished with value: 0.08497188164881887 and parameters: {'n_estimators': 841, 'learning_rate': 0.0014415203115139674, 'max_depth': 5, 'alpha': 0.703692386075875, 'lambda': 0.004495818072195864, 'subsample': 0.9393462605627422, 'colsample_bytree': 0.6247041200859673, 'min_child_weight': 4}. Best is trial 0 with value: 0.07987144149574567.\n",
      "[I 2025-10-27 09:33:12,384] Trial 2 finished with value: 0.10138246528335045 and parameters: {'n_estimators': 330, 'learning_rate': 0.0026248015994662995, 'max_depth': 6, 'alpha': 0.002955839935364232, 'lambda': 1.1078516345261795, 'subsample': 0.8446623539305427, 'colsample_bytree': 0.5583376820933883, 'min_child_weight': 3}. Best is trial 0 with value: 0.07987144149574567.\n",
      "[I 2025-10-27 09:33:27,829] Trial 3 finished with value: 0.12987892508907706 and parameters: {'n_estimators': 215, 'learning_rate': 0.001879372333585239, 'max_depth': 3, 'alpha': 0.05108304006482536, 'lambda': 5.636776399049738, 'subsample': 0.5348691152514746, 'colsample_bytree': 0.656208935764933, 'min_child_weight': 4}. Best is trial 0 with value: 0.07987144149574567.\n",
      "[I 2025-10-27 09:35:10,228] Trial 4 finished with value: 0.0591608315479719 and parameters: {'n_estimators': 581, 'learning_rate': 0.1591208476205599, 'max_depth': 10, 'alpha': 0.009349280653280542, 'lambda': 0.671142856907711, 'subsample': 0.672933123088306, 'colsample_bytree': 0.658788056781729, 'min_child_weight': 6}. Best is trial 4 with value: 0.0591608315479719.\n",
      "[I 2025-10-27 09:36:04,634] Trial 5 finished with value: 0.05604160849524008 and parameters: {'n_estimators': 870, 'learning_rate': 0.29369602962054364, 'max_depth': 4, 'alpha': 0.25142509466271673, 'lambda': 0.0013924942393867177, 'subsample': 0.6498607140118193, 'colsample_bytree': 0.9133693321901037, 'min_child_weight': 2}. Best is trial 5 with value: 0.05604160849524008.\n",
      "[I 2025-10-27 09:36:38,106] Trial 6 finished with value: 0.058055869063838285 and parameters: {'n_estimators': 488, 'learning_rate': 0.018640608550301373, 'max_depth': 4, 'alpha': 0.002441474131523046, 'lambda': 0.2306672223936472, 'subsample': 0.8477249548761894, 'colsample_bytree': 0.6041775322264931, 'min_child_weight': 9}. Best is trial 5 with value: 0.05604160849524008.\n",
      "[I 2025-10-27 09:37:13,239] Trial 7 finished with value: 0.06465169452603195 and parameters: {'n_estimators': 597, 'learning_rate': 0.0059226346495476105, 'max_depth': 3, 'alpha': 0.15560594090768357, 'lambda': 1.0276193834630172, 'subsample': 0.6422179351686235, 'colsample_bytree': 0.8929777581599042, 'min_child_weight': 1}. Best is trial 5 with value: 0.05604160849524008.\n",
      "[I 2025-10-27 09:39:21,459] Trial 8 finished with value: 0.056338392632031775 and parameters: {'n_estimators': 895, 'learning_rate': 0.04254201855820382, 'max_depth': 9, 'alpha': 0.0031096759803842656, 'lambda': 0.0020171507709711395, 'subsample': 0.9982034698022952, 'colsample_bytree': 0.5363602409024124, 'min_child_weight': 6}. Best is trial 5 with value: 0.05604160849524008.\n",
      "[I 2025-10-27 09:41:22,028] Trial 9 finished with value: 0.05668281553531497 and parameters: {'n_estimators': 1183, 'learning_rate': 0.12824246753389684, 'max_depth': 7, 'alpha': 0.15074305077707395, 'lambda': 0.5664975939924248, 'subsample': 0.7847727759765286, 'colsample_bytree': 0.779667733290279, 'min_child_weight': 6}. Best is trial 5 with value: 0.05604160849524008.\n",
      "[I 2025-10-27 09:43:07,509] Trial 10 finished with value: 0.056150305962082966 and parameters: {'n_estimators': 1126, 'learning_rate': 0.2882240553628352, 'max_depth': 7, 'alpha': 7.16113779436394, 'lambda': 0.015788242881925273, 'subsample': 0.5140939093326407, 'colsample_bytree': 0.9799719020623603, 'min_child_weight': 1}. Best is trial 5 with value: 0.05604160849524008.\n",
      "[I 2025-10-27 09:44:50,567] Trial 11 finished with value: 0.05613231003257868 and parameters: {'n_estimators': 1153, 'learning_rate': 0.2956693429076238, 'max_depth': 7, 'alpha': 8.870658627298956, 'lambda': 0.014669480785849075, 'subsample': 0.5403301735020521, 'colsample_bytree': 0.9985391898460789, 'min_child_weight': 1}. Best is trial 5 with value: 0.05604160849524008.\n",
      "[I 2025-10-27 09:46:22,864] Trial 12 finished with value: 0.056025166692175596 and parameters: {'n_estimators': 1011, 'learning_rate': 0.06426886761497076, 'max_depth': 6, 'alpha': 6.629903064677208, 'lambda': 0.025637443074971577, 'subsample': 0.6100996561801973, 'colsample_bytree': 0.9950500406051991, 'min_child_weight': 2}. Best is trial 12 with value: 0.056025166692175596.\n",
      "[I 2025-10-27 09:47:44,520] Trial 13 finished with value: 0.05589486721457736 and parameters: {'n_estimators': 987, 'learning_rate': 0.06112552397695558, 'max_depth': 5, 'alpha': 1.4650374350943136, 'lambda': 0.04302840593589483, 'subsample': 0.6517368224427401, 'colsample_bytree': 0.9029418564034816, 'min_child_weight': 2}. Best is trial 13 with value: 0.05589486721457736.\n",
      "[I 2025-10-27 09:49:10,493] Trial 14 finished with value: 0.05588598533491431 and parameters: {'n_estimators': 1016, 'learning_rate': 0.05036086563157658, 'max_depth': 5, 'alpha': 1.7078790750979551, 'lambda': 0.04303317633957419, 'subsample': 0.6010146163838317, 'colsample_bytree': 0.8088494830103302, 'min_child_weight': 2}. Best is trial 14 with value: 0.05588598533491431.\n"
     ]
    }
   ],
   "source": [
    "def objective(trial):\n",
    "    params = {\n",
    "        'n_estimators': trial.suggest_int('n_estimators', 200, 1200),\n",
    "        'learning_rate': trial.suggest_float('learning_rate', 0.001, 0.3, log=True),\n",
    "        'max_depth': trial.suggest_int('max_depth', 3, 10),\n",
    "        'alpha': trial.suggest_float('alpha', 1e-3, 10, log=True),\n",
    "        'lambda': trial.suggest_float('lambda', 1e-3, 10, log=True),\n",
    "        'subsample': trial.suggest_float('subsample', 0.5, 1.0),\n",
    "        'colsample_bytree': trial.suggest_float('colsample_bytree', 0.5, 1.0),\n",
    "        'min_child_weight': trial.suggest_int('min_child_weight', 1, 10, log=True),\n",
    "    }\n",
    "    \n",
    "    xgb = XGBRegressor(**params,\n",
    "    random_state=2,\n",
    "    n_jobs=-1,\n",
    "    verbosity=0,\n",
    "    objective='reg:squarederror'\n",
    "    )\n",
    "\n",
    "    cv = KFold(n_splits=5, shuffle=True, random_state=2)\n",
    "    score = -1 * cross_val_score(xgb, X_train, y_train, cv=cv, scoring='neg_root_mean_squared_error')\n",
    "    return score.mean()\n",
    "\n",
    "study = optuna.create_study(direction='minimize', study_name='XGB-Optimization')\n",
    "study.optimize(objective, n_trials=15, show_progress_bar=True)"
   ]
  },
  {
   "cell_type": "code",
   "execution_count": 20,
   "id": "bab9296b",
   "metadata": {
    "execution": {
     "iopub.execute_input": "2025-10-27T09:49:10.525769Z",
     "iopub.status.busy": "2025-10-27T09:49:10.525421Z",
     "iopub.status.idle": "2025-10-27T09:49:13.066931Z",
     "shell.execute_reply": "2025-10-27T09:49:13.065960Z"
    },
    "papermill": {
     "duration": 2.552538,
     "end_time": "2025-10-27T09:49:13.069165",
     "exception": false,
     "start_time": "2025-10-27T09:49:10.516627",
     "status": "completed"
    },
    "tags": []
   },
   "outputs": [
    {
     "data": {
      "text/html": [
       "<html>\n",
       "<head><meta charset=\"utf-8\" /></head>\n",
       "<body>\n",
       "    <div>            <script src=\"https://cdnjs.cloudflare.com/ajax/libs/mathjax/2.7.5/MathJax.js?config=TeX-AMS-MML_SVG\"></script><script type=\"text/javascript\">if (window.MathJax && window.MathJax.Hub && window.MathJax.Hub.Config) {window.MathJax.Hub.Config({SVG: {font: \"STIX-Web\"}});}</script>                <script type=\"text/javascript\">window.PlotlyConfig = {MathJaxConfig: 'local'};</script>\n",
       "        <script charset=\"utf-8\" src=\"https://cdn.plot.ly/plotly-2.35.2.min.js\"></script>                <div id=\"081af680-a649-47b0-954a-071f721322ed\" class=\"plotly-graph-div\" style=\"height:525px; width:100%;\"></div>            <script type=\"text/javascript\">                                    window.PLOTLYENV=window.PLOTLYENV || {};                                    if (document.getElementById(\"081af680-a649-47b0-954a-071f721322ed\")) {                    Plotly.newPlot(                        \"081af680-a649-47b0-954a-071f721322ed\",                        [{\"cliponaxis\":false,\"hovertemplate\":[\"alpha (FloatDistribution): 0.00039526809168427914\\u003cextra\\u003e\\u003c\\u002fextra\\u003e\",\"min_child_weight (IntDistribution): 0.007034763244902483\\u003cextra\\u003e\\u003c\\u002fextra\\u003e\",\"colsample_bytree (FloatDistribution): 0.03147727428054056\\u003cextra\\u003e\\u003c\\u002fextra\\u003e\",\"max_depth (IntDistribution): 0.0557664646878444\\u003cextra\\u003e\\u003c\\u002fextra\\u003e\",\"subsample (FloatDistribution): 0.07218023269444782\\u003cextra\\u003e\\u003c\\u002fextra\\u003e\",\"lambda (FloatDistribution): 0.12874493331595332\\u003cextra\\u003e\\u003c\\u002fextra\\u003e\",\"n_estimators (IntDistribution): 0.3290280823394041\\u003cextra\\u003e\\u003c\\u002fextra\\u003e\",\"learning_rate (FloatDistribution): 0.37537298134522307\\u003cextra\\u003e\\u003c\\u002fextra\\u003e\"],\"name\":\"Objective Value\",\"orientation\":\"h\",\"text\":[\"\\u003c0.01\",\"\\u003c0.01\",\"0.03\",\"0.06\",\"0.07\",\"0.13\",\"0.33\",\"0.38\"],\"textposition\":\"outside\",\"x\":[0.00039526809168427914,0.007034763244902483,0.03147727428054056,0.0557664646878444,0.07218023269444782,0.12874493331595332,0.3290280823394041,0.37537298134522307],\"y\":[\"alpha\",\"min_child_weight\",\"colsample_bytree\",\"max_depth\",\"subsample\",\"lambda\",\"n_estimators\",\"learning_rate\"],\"type\":\"bar\"}],                        {\"title\":{\"text\":\"Hyperparameter Importances\"},\"xaxis\":{\"title\":{\"text\":\"Hyperparameter Importance\"}},\"yaxis\":{\"title\":{\"text\":\"Hyperparameter\"}},\"template\":{\"data\":{\"histogram2dcontour\":[{\"type\":\"histogram2dcontour\",\"colorbar\":{\"outlinewidth\":0,\"ticks\":\"\"},\"colorscale\":[[0.0,\"#0d0887\"],[0.1111111111111111,\"#46039f\"],[0.2222222222222222,\"#7201a8\"],[0.3333333333333333,\"#9c179e\"],[0.4444444444444444,\"#bd3786\"],[0.5555555555555556,\"#d8576b\"],[0.6666666666666666,\"#ed7953\"],[0.7777777777777778,\"#fb9f3a\"],[0.8888888888888888,\"#fdca26\"],[1.0,\"#f0f921\"]]}],\"choropleth\":[{\"type\":\"choropleth\",\"colorbar\":{\"outlinewidth\":0,\"ticks\":\"\"}}],\"histogram2d\":[{\"type\":\"histogram2d\",\"colorbar\":{\"outlinewidth\":0,\"ticks\":\"\"},\"colorscale\":[[0.0,\"#0d0887\"],[0.1111111111111111,\"#46039f\"],[0.2222222222222222,\"#7201a8\"],[0.3333333333333333,\"#9c179e\"],[0.4444444444444444,\"#bd3786\"],[0.5555555555555556,\"#d8576b\"],[0.6666666666666666,\"#ed7953\"],[0.7777777777777778,\"#fb9f3a\"],[0.8888888888888888,\"#fdca26\"],[1.0,\"#f0f921\"]]}],\"heatmap\":[{\"type\":\"heatmap\",\"colorbar\":{\"outlinewidth\":0,\"ticks\":\"\"},\"colorscale\":[[0.0,\"#0d0887\"],[0.1111111111111111,\"#46039f\"],[0.2222222222222222,\"#7201a8\"],[0.3333333333333333,\"#9c179e\"],[0.4444444444444444,\"#bd3786\"],[0.5555555555555556,\"#d8576b\"],[0.6666666666666666,\"#ed7953\"],[0.7777777777777778,\"#fb9f3a\"],[0.8888888888888888,\"#fdca26\"],[1.0,\"#f0f921\"]]}],\"heatmapgl\":[{\"type\":\"heatmapgl\",\"colorbar\":{\"outlinewidth\":0,\"ticks\":\"\"},\"colorscale\":[[0.0,\"#0d0887\"],[0.1111111111111111,\"#46039f\"],[0.2222222222222222,\"#7201a8\"],[0.3333333333333333,\"#9c179e\"],[0.4444444444444444,\"#bd3786\"],[0.5555555555555556,\"#d8576b\"],[0.6666666666666666,\"#ed7953\"],[0.7777777777777778,\"#fb9f3a\"],[0.8888888888888888,\"#fdca26\"],[1.0,\"#f0f921\"]]}],\"contourcarpet\":[{\"type\":\"contourcarpet\",\"colorbar\":{\"outlinewidth\":0,\"ticks\":\"\"}}],\"contour\":[{\"type\":\"contour\",\"colorbar\":{\"outlinewidth\":0,\"ticks\":\"\"},\"colorscale\":[[0.0,\"#0d0887\"],[0.1111111111111111,\"#46039f\"],[0.2222222222222222,\"#7201a8\"],[0.3333333333333333,\"#9c179e\"],[0.4444444444444444,\"#bd3786\"],[0.5555555555555556,\"#d8576b\"],[0.6666666666666666,\"#ed7953\"],[0.7777777777777778,\"#fb9f3a\"],[0.8888888888888888,\"#fdca26\"],[1.0,\"#f0f921\"]]}],\"surface\":[{\"type\":\"surface\",\"colorbar\":{\"outlinewidth\":0,\"ticks\":\"\"},\"colorscale\":[[0.0,\"#0d0887\"],[0.1111111111111111,\"#46039f\"],[0.2222222222222222,\"#7201a8\"],[0.3333333333333333,\"#9c179e\"],[0.4444444444444444,\"#bd3786\"],[0.5555555555555556,\"#d8576b\"],[0.6666666666666666,\"#ed7953\"],[0.7777777777777778,\"#fb9f3a\"],[0.8888888888888888,\"#fdca26\"],[1.0,\"#f0f921\"]]}],\"mesh3d\":[{\"type\":\"mesh3d\",\"colorbar\":{\"outlinewidth\":0,\"ticks\":\"\"}}],\"scatter\":[{\"fillpattern\":{\"fillmode\":\"overlay\",\"size\":10,\"solidity\":0.2},\"type\":\"scatter\"}],\"parcoords\":[{\"type\":\"parcoords\",\"line\":{\"colorbar\":{\"outlinewidth\":0,\"ticks\":\"\"}}}],\"scatterpolargl\":[{\"type\":\"scatterpolargl\",\"marker\":{\"colorbar\":{\"outlinewidth\":0,\"ticks\":\"\"}}}],\"bar\":[{\"error_x\":{\"color\":\"#2a3f5f\"},\"error_y\":{\"color\":\"#2a3f5f\"},\"marker\":{\"line\":{\"color\":\"#E5ECF6\",\"width\":0.5},\"pattern\":{\"fillmode\":\"overlay\",\"size\":10,\"solidity\":0.2}},\"type\":\"bar\"}],\"scattergeo\":[{\"type\":\"scattergeo\",\"marker\":{\"colorbar\":{\"outlinewidth\":0,\"ticks\":\"\"}}}],\"scatterpolar\":[{\"type\":\"scatterpolar\",\"marker\":{\"colorbar\":{\"outlinewidth\":0,\"ticks\":\"\"}}}],\"histogram\":[{\"marker\":{\"pattern\":{\"fillmode\":\"overlay\",\"size\":10,\"solidity\":0.2}},\"type\":\"histogram\"}],\"scattergl\":[{\"type\":\"scattergl\",\"marker\":{\"colorbar\":{\"outlinewidth\":0,\"ticks\":\"\"}}}],\"scatter3d\":[{\"type\":\"scatter3d\",\"line\":{\"colorbar\":{\"outlinewidth\":0,\"ticks\":\"\"}},\"marker\":{\"colorbar\":{\"outlinewidth\":0,\"ticks\":\"\"}}}],\"scattermapbox\":[{\"type\":\"scattermapbox\",\"marker\":{\"colorbar\":{\"outlinewidth\":0,\"ticks\":\"\"}}}],\"scatterternary\":[{\"type\":\"scatterternary\",\"marker\":{\"colorbar\":{\"outlinewidth\":0,\"ticks\":\"\"}}}],\"scattercarpet\":[{\"type\":\"scattercarpet\",\"marker\":{\"colorbar\":{\"outlinewidth\":0,\"ticks\":\"\"}}}],\"carpet\":[{\"aaxis\":{\"endlinecolor\":\"#2a3f5f\",\"gridcolor\":\"white\",\"linecolor\":\"white\",\"minorgridcolor\":\"white\",\"startlinecolor\":\"#2a3f5f\"},\"baxis\":{\"endlinecolor\":\"#2a3f5f\",\"gridcolor\":\"white\",\"linecolor\":\"white\",\"minorgridcolor\":\"white\",\"startlinecolor\":\"#2a3f5f\"},\"type\":\"carpet\"}],\"table\":[{\"cells\":{\"fill\":{\"color\":\"#EBF0F8\"},\"line\":{\"color\":\"white\"}},\"header\":{\"fill\":{\"color\":\"#C8D4E3\"},\"line\":{\"color\":\"white\"}},\"type\":\"table\"}],\"barpolar\":[{\"marker\":{\"line\":{\"color\":\"#E5ECF6\",\"width\":0.5},\"pattern\":{\"fillmode\":\"overlay\",\"size\":10,\"solidity\":0.2}},\"type\":\"barpolar\"}],\"pie\":[{\"automargin\":true,\"type\":\"pie\"}]},\"layout\":{\"autotypenumbers\":\"strict\",\"colorway\":[\"#636efa\",\"#EF553B\",\"#00cc96\",\"#ab63fa\",\"#FFA15A\",\"#19d3f3\",\"#FF6692\",\"#B6E880\",\"#FF97FF\",\"#FECB52\"],\"font\":{\"color\":\"#2a3f5f\"},\"hovermode\":\"closest\",\"hoverlabel\":{\"align\":\"left\"},\"paper_bgcolor\":\"white\",\"plot_bgcolor\":\"#E5ECF6\",\"polar\":{\"bgcolor\":\"#E5ECF6\",\"angularaxis\":{\"gridcolor\":\"white\",\"linecolor\":\"white\",\"ticks\":\"\"},\"radialaxis\":{\"gridcolor\":\"white\",\"linecolor\":\"white\",\"ticks\":\"\"}},\"ternary\":{\"bgcolor\":\"#E5ECF6\",\"aaxis\":{\"gridcolor\":\"white\",\"linecolor\":\"white\",\"ticks\":\"\"},\"baxis\":{\"gridcolor\":\"white\",\"linecolor\":\"white\",\"ticks\":\"\"},\"caxis\":{\"gridcolor\":\"white\",\"linecolor\":\"white\",\"ticks\":\"\"}},\"coloraxis\":{\"colorbar\":{\"outlinewidth\":0,\"ticks\":\"\"}},\"colorscale\":{\"sequential\":[[0.0,\"#0d0887\"],[0.1111111111111111,\"#46039f\"],[0.2222222222222222,\"#7201a8\"],[0.3333333333333333,\"#9c179e\"],[0.4444444444444444,\"#bd3786\"],[0.5555555555555556,\"#d8576b\"],[0.6666666666666666,\"#ed7953\"],[0.7777777777777778,\"#fb9f3a\"],[0.8888888888888888,\"#fdca26\"],[1.0,\"#f0f921\"]],\"sequentialminus\":[[0.0,\"#0d0887\"],[0.1111111111111111,\"#46039f\"],[0.2222222222222222,\"#7201a8\"],[0.3333333333333333,\"#9c179e\"],[0.4444444444444444,\"#bd3786\"],[0.5555555555555556,\"#d8576b\"],[0.6666666666666666,\"#ed7953\"],[0.7777777777777778,\"#fb9f3a\"],[0.8888888888888888,\"#fdca26\"],[1.0,\"#f0f921\"]],\"diverging\":[[0,\"#8e0152\"],[0.1,\"#c51b7d\"],[0.2,\"#de77ae\"],[0.3,\"#f1b6da\"],[0.4,\"#fde0ef\"],[0.5,\"#f7f7f7\"],[0.6,\"#e6f5d0\"],[0.7,\"#b8e186\"],[0.8,\"#7fbc41\"],[0.9,\"#4d9221\"],[1,\"#276419\"]]},\"xaxis\":{\"gridcolor\":\"white\",\"linecolor\":\"white\",\"ticks\":\"\",\"title\":{\"standoff\":15},\"zerolinecolor\":\"white\",\"automargin\":true,\"zerolinewidth\":2},\"yaxis\":{\"gridcolor\":\"white\",\"linecolor\":\"white\",\"ticks\":\"\",\"title\":{\"standoff\":15},\"zerolinecolor\":\"white\",\"automargin\":true,\"zerolinewidth\":2},\"scene\":{\"xaxis\":{\"backgroundcolor\":\"#E5ECF6\",\"gridcolor\":\"white\",\"linecolor\":\"white\",\"showbackground\":true,\"ticks\":\"\",\"zerolinecolor\":\"white\",\"gridwidth\":2},\"yaxis\":{\"backgroundcolor\":\"#E5ECF6\",\"gridcolor\":\"white\",\"linecolor\":\"white\",\"showbackground\":true,\"ticks\":\"\",\"zerolinecolor\":\"white\",\"gridwidth\":2},\"zaxis\":{\"backgroundcolor\":\"#E5ECF6\",\"gridcolor\":\"white\",\"linecolor\":\"white\",\"showbackground\":true,\"ticks\":\"\",\"zerolinecolor\":\"white\",\"gridwidth\":2}},\"shapedefaults\":{\"line\":{\"color\":\"#2a3f5f\"}},\"annotationdefaults\":{\"arrowcolor\":\"#2a3f5f\",\"arrowhead\":0,\"arrowwidth\":1},\"geo\":{\"bgcolor\":\"white\",\"landcolor\":\"#E5ECF6\",\"subunitcolor\":\"white\",\"showland\":true,\"showlakes\":true,\"lakecolor\":\"white\"},\"title\":{\"x\":0.05},\"mapbox\":{\"style\":\"light\"}}}},                        {\"responsive\": true}                    ).then(function(){\n",
       "                            \n",
       "var gd = document.getElementById('081af680-a649-47b0-954a-071f721322ed');\n",
       "var x = new MutationObserver(function (mutations, observer) {{\n",
       "        var display = window.getComputedStyle(gd).display;\n",
       "        if (!display || display === 'none') {{\n",
       "            console.log([gd, 'removed!']);\n",
       "            Plotly.purge(gd);\n",
       "            observer.disconnect();\n",
       "        }}\n",
       "}});\n",
       "\n",
       "// Listen for the removal of the full notebook cells\n",
       "var notebookContainer = gd.closest('#notebook-container');\n",
       "if (notebookContainer) {{\n",
       "    x.observe(notebookContainer, {childList: true});\n",
       "}}\n",
       "\n",
       "// Listen for the clearing of the current output cell\n",
       "var outputEl = gd.closest('.output');\n",
       "if (outputEl) {{\n",
       "    x.observe(outputEl, {childList: true});\n",
       "}}\n",
       "\n",
       "                        })                };                            </script>        </div>\n",
       "</body>\n",
       "</html>"
      ]
     },
     "metadata": {},
     "output_type": "display_data"
    }
   ],
   "source": [
    "# Parameter importance plot (which hyperparameters matter most)\n",
    "plot_param_importances(study)"
   ]
  },
  {
   "cell_type": "code",
   "execution_count": 21,
   "id": "6155d857",
   "metadata": {
    "execution": {
     "iopub.execute_input": "2025-10-27T09:49:13.086628Z",
     "iopub.status.busy": "2025-10-27T09:49:13.086261Z",
     "iopub.status.idle": "2025-10-27T09:49:32.671787Z",
     "shell.execute_reply": "2025-10-27T09:49:32.670646Z"
    },
    "papermill": {
     "duration": 19.595991,
     "end_time": "2025-10-27T09:49:32.673531",
     "exception": false,
     "start_time": "2025-10-27T09:49:13.077540",
     "status": "completed"
    },
    "tags": []
   },
   "outputs": [
    {
     "data": {
      "text/html": [
       "<style>#sk-container-id-1 {color: black;background-color: white;}#sk-container-id-1 pre{padding: 0;}#sk-container-id-1 div.sk-toggleable {background-color: white;}#sk-container-id-1 label.sk-toggleable__label {cursor: pointer;display: block;width: 100%;margin-bottom: 0;padding: 0.3em;box-sizing: border-box;text-align: center;}#sk-container-id-1 label.sk-toggleable__label-arrow:before {content: \"▸\";float: left;margin-right: 0.25em;color: #696969;}#sk-container-id-1 label.sk-toggleable__label-arrow:hover:before {color: black;}#sk-container-id-1 div.sk-estimator:hover label.sk-toggleable__label-arrow:before {color: black;}#sk-container-id-1 div.sk-toggleable__content {max-height: 0;max-width: 0;overflow: hidden;text-align: left;background-color: #f0f8ff;}#sk-container-id-1 div.sk-toggleable__content pre {margin: 0.2em;color: black;border-radius: 0.25em;background-color: #f0f8ff;}#sk-container-id-1 input.sk-toggleable__control:checked~div.sk-toggleable__content {max-height: 200px;max-width: 100%;overflow: auto;}#sk-container-id-1 input.sk-toggleable__control:checked~label.sk-toggleable__label-arrow:before {content: \"▾\";}#sk-container-id-1 div.sk-estimator input.sk-toggleable__control:checked~label.sk-toggleable__label {background-color: #d4ebff;}#sk-container-id-1 div.sk-label input.sk-toggleable__control:checked~label.sk-toggleable__label {background-color: #d4ebff;}#sk-container-id-1 input.sk-hidden--visually {border: 0;clip: rect(1px 1px 1px 1px);clip: rect(1px, 1px, 1px, 1px);height: 1px;margin: -1px;overflow: hidden;padding: 0;position: absolute;width: 1px;}#sk-container-id-1 div.sk-estimator {font-family: monospace;background-color: #f0f8ff;border: 1px dotted black;border-radius: 0.25em;box-sizing: border-box;margin-bottom: 0.5em;}#sk-container-id-1 div.sk-estimator:hover {background-color: #d4ebff;}#sk-container-id-1 div.sk-parallel-item::after {content: \"\";width: 100%;border-bottom: 1px solid gray;flex-grow: 1;}#sk-container-id-1 div.sk-label:hover label.sk-toggleable__label {background-color: #d4ebff;}#sk-container-id-1 div.sk-serial::before {content: \"\";position: absolute;border-left: 1px solid gray;box-sizing: border-box;top: 0;bottom: 0;left: 50%;z-index: 0;}#sk-container-id-1 div.sk-serial {display: flex;flex-direction: column;align-items: center;background-color: white;padding-right: 0.2em;padding-left: 0.2em;position: relative;}#sk-container-id-1 div.sk-item {position: relative;z-index: 1;}#sk-container-id-1 div.sk-parallel {display: flex;align-items: stretch;justify-content: center;background-color: white;position: relative;}#sk-container-id-1 div.sk-item::before, #sk-container-id-1 div.sk-parallel-item::before {content: \"\";position: absolute;border-left: 1px solid gray;box-sizing: border-box;top: 0;bottom: 0;left: 50%;z-index: -1;}#sk-container-id-1 div.sk-parallel-item {display: flex;flex-direction: column;z-index: 1;position: relative;background-color: white;}#sk-container-id-1 div.sk-parallel-item:first-child::after {align-self: flex-end;width: 50%;}#sk-container-id-1 div.sk-parallel-item:last-child::after {align-self: flex-start;width: 50%;}#sk-container-id-1 div.sk-parallel-item:only-child::after {width: 0;}#sk-container-id-1 div.sk-dashed-wrapped {border: 1px dashed gray;margin: 0 0.4em 0.5em 0.4em;box-sizing: border-box;padding-bottom: 0.4em;background-color: white;}#sk-container-id-1 div.sk-label label {font-family: monospace;font-weight: bold;display: inline-block;line-height: 1.2em;}#sk-container-id-1 div.sk-label-container {text-align: center;}#sk-container-id-1 div.sk-container {/* jupyter's `normalize.less` sets `[hidden] { display: none; }` but bootstrap.min.css set `[hidden] { display: none !important; }` so we also need the `!important` here to be able to override the default hidden behavior on the sphinx rendered scikit-learn.org. See: https://github.com/scikit-learn/scikit-learn/issues/21755 */display: inline-block !important;position: relative;}#sk-container-id-1 div.sk-text-repr-fallback {display: none;}</style><div id=\"sk-container-id-1\" class=\"sk-top-container\"><div class=\"sk-text-repr-fallback\"><pre>XGBRegressor(alpha=1.7078790750979551, base_score=None, booster=None,\n",
       "             callbacks=None, colsample_bylevel=None, colsample_bynode=None,\n",
       "             colsample_bytree=0.8088494830103302, device=None,\n",
       "             early_stopping_rounds=None, enable_categorical=False,\n",
       "             eval_metric=None, feature_types=None, gamma=None, grow_policy=None,\n",
       "             importance_type=None, interaction_constraints=None,\n",
       "             lambda=0.04303317633957419, learning_rate=0.05036086563157658,\n",
       "             max_bin=None, max_cat_threshold=None, max_cat_to_onehot=None,\n",
       "             max_delta_step=None, max_depth=5, max_leaves=None,\n",
       "             min_child_weight=2, missing=nan, monotone_constraints=None,\n",
       "             multi_strategy=None, n_estimators=1016, n_jobs=-1, ...)</pre><b>In a Jupyter environment, please rerun this cell to show the HTML representation or trust the notebook. <br />On GitHub, the HTML representation is unable to render, please try loading this page with nbviewer.org.</b></div><div class=\"sk-container\" hidden><div class=\"sk-item\"><div class=\"sk-estimator sk-toggleable\"><input class=\"sk-toggleable__control sk-hidden--visually\" id=\"sk-estimator-id-1\" type=\"checkbox\" checked><label for=\"sk-estimator-id-1\" class=\"sk-toggleable__label sk-toggleable__label-arrow\">XGBRegressor</label><div class=\"sk-toggleable__content\"><pre>XGBRegressor(alpha=1.7078790750979551, base_score=None, booster=None,\n",
       "             callbacks=None, colsample_bylevel=None, colsample_bynode=None,\n",
       "             colsample_bytree=0.8088494830103302, device=None,\n",
       "             early_stopping_rounds=None, enable_categorical=False,\n",
       "             eval_metric=None, feature_types=None, gamma=None, grow_policy=None,\n",
       "             importance_type=None, interaction_constraints=None,\n",
       "             lambda=0.04303317633957419, learning_rate=0.05036086563157658,\n",
       "             max_bin=None, max_cat_threshold=None, max_cat_to_onehot=None,\n",
       "             max_delta_step=None, max_depth=5, max_leaves=None,\n",
       "             min_child_weight=2, missing=nan, monotone_constraints=None,\n",
       "             multi_strategy=None, n_estimators=1016, n_jobs=-1, ...)</pre></div></div></div></div></div>"
      ],
      "text/plain": [
       "XGBRegressor(alpha=1.7078790750979551, base_score=None, booster=None,\n",
       "             callbacks=None, colsample_bylevel=None, colsample_bynode=None,\n",
       "             colsample_bytree=0.8088494830103302, device=None,\n",
       "             early_stopping_rounds=None, enable_categorical=False,\n",
       "             eval_metric=None, feature_types=None, gamma=None, grow_policy=None,\n",
       "             importance_type=None, interaction_constraints=None,\n",
       "             lambda=0.04303317633957419, learning_rate=0.05036086563157658,\n",
       "             max_bin=None, max_cat_threshold=None, max_cat_to_onehot=None,\n",
       "             max_delta_step=None, max_depth=5, max_leaves=None,\n",
       "             min_child_weight=2, missing=nan, monotone_constraints=None,\n",
       "             multi_strategy=None, n_estimators=1016, n_jobs=-1, ...)"
      ]
     },
     "execution_count": 21,
     "metadata": {},
     "output_type": "execute_result"
    }
   ],
   "source": [
    "best_params = study.best_params\n",
    "\n",
    "best_model = XGBRegressor(\n",
    "    **best_params,\n",
    "    random_state=2,\n",
    "    n_jobs=-1,\n",
    "    objective='reg:squarederror'\n",
    ")\n",
    "\n",
    "best_model.fit(X_train, y_train)"
   ]
  },
  {
   "cell_type": "code",
   "execution_count": 22,
   "id": "fa752d80",
   "metadata": {
    "execution": {
     "iopub.execute_input": "2025-10-27T09:49:32.692360Z",
     "iopub.status.busy": "2025-10-27T09:49:32.691995Z",
     "iopub.status.idle": "2025-10-27T09:49:34.053516Z",
     "shell.execute_reply": "2025-10-27T09:49:34.052821Z"
    },
    "papermill": {
     "duration": 1.372815,
     "end_time": "2025-10-27T09:49:34.055413",
     "exception": false,
     "start_time": "2025-10-27T09:49:32.682598",
     "status": "completed"
    },
    "tags": []
   },
   "outputs": [],
   "source": [
    "yhat = best_model.predict(X_valid)"
   ]
  },
  {
   "cell_type": "code",
   "execution_count": 23,
   "id": "24284b5a",
   "metadata": {
    "execution": {
     "iopub.execute_input": "2025-10-27T09:49:34.073077Z",
     "iopub.status.busy": "2025-10-27T09:49:34.072777Z",
     "iopub.status.idle": "2025-10-27T09:49:34.087923Z",
     "shell.execute_reply": "2025-10-27T09:49:34.086758Z"
    },
    "papermill": {
     "duration": 0.025773,
     "end_time": "2025-10-27T09:49:34.089480",
     "exception": false,
     "start_time": "2025-10-27T09:49:34.063707",
     "status": "completed"
    },
    "tags": []
   },
   "outputs": [
    {
     "name": "stdout",
     "output_type": "stream",
     "text": [
      "Mean Absolute Error (MAE): 0.0437\n",
      "Mean Squared Error (MSE): 0.0032\n",
      "Root Mean Squared Error (RMSE): 0.0564\n",
      "R² Score: 0.8891\n",
      "Explained Variance Score: 0.8891\n"
     ]
    }
   ],
   "source": [
    "mae = mean_absolute_error(y_valid, yhat)\n",
    "mse = mean_squared_error(y_valid, yhat)\n",
    "rmse = np.sqrt(mean_squared_error(y_valid, yhat))\n",
    "r2score = r2_score(y_valid, yhat)\n",
    "explained_var = explained_variance_score(y_valid, yhat)\n",
    "\n",
    "print(f\"Mean Absolute Error (MAE): {mae:.4f}\")\n",
    "print(f\"Mean Squared Error (MSE): {mse:.4f}\")\n",
    "print(f\"Root Mean Squared Error (RMSE): {rmse:.4f}\")\n",
    "print(f\"R² Score: {r2score:.4f}\")\n",
    "print(f'Explained Variance Score: {explained_var:.4f}')"
   ]
  },
  {
   "cell_type": "markdown",
   "id": "22f8a068",
   "metadata": {
    "papermill": {
     "duration": 0.007738,
     "end_time": "2025-10-27T09:49:34.105356",
     "exception": false,
     "start_time": "2025-10-27T09:49:34.097618",
     "status": "completed"
    },
    "tags": []
   },
   "source": [
    "### Plot Actual vs Predicted values"
   ]
  },
  {
   "cell_type": "code",
   "execution_count": 24,
   "id": "4648da07",
   "metadata": {
    "execution": {
     "iopub.execute_input": "2025-10-27T09:49:34.123580Z",
     "iopub.status.busy": "2025-10-27T09:49:34.123251Z",
     "iopub.status.idle": "2025-10-27T09:49:35.506656Z",
     "shell.execute_reply": "2025-10-27T09:49:35.505587Z"
    },
    "papermill": {
     "duration": 1.397893,
     "end_time": "2025-10-27T09:49:35.511630",
     "exception": false,
     "start_time": "2025-10-27T09:49:34.113737",
     "status": "completed"
    },
    "tags": []
   },
   "outputs": [
    {
     "data": {
      "image/png": "[encoded data removed]",
      "text/plain": [
       "<Figure size 1800x1080 with 1 Axes>"
      ]
     },
     "metadata": {},
     "output_type": "display_data"
    }
   ],
   "source": [
    "plt.scatter(y_valid, yhat, alpha=0.3, color='blue')\n",
    "plt.plot([y_valid.min(), y_valid.max()], [y_valid.min(), y_valid.max()], 'k--', lw=2)\n",
    "plt.xlabel(\"Actual Values\")\n",
    "plt.ylabel(\"Predicted Values\")\n",
    "plt.title(\"XGBoost - Actual vs Predicted\")\n",
    "plt.show()"
   ]
  },
  {
   "cell_type": "code",
   "execution_count": 25,
   "id": "953e5e8b",
   "metadata": {
    "execution": {
     "iopub.execute_input": "2025-10-27T09:49:35.538749Z",
     "iopub.status.busy": "2025-10-27T09:49:35.538419Z",
     "iopub.status.idle": "2025-10-27T09:49:37.000556Z",
     "shell.execute_reply": "2025-10-27T09:49:36.999310Z"
    },
    "papermill": {
     "duration": 1.477873,
     "end_time": "2025-10-27T09:49:37.002614",
     "exception": false,
     "start_time": "2025-10-27T09:49:35.524741",
     "status": "completed"
    },
    "tags": []
   },
   "outputs": [],
   "source": [
    "X_test = test.copy()\n",
    "test_preds = best_model.predict(X_test)"
   ]
  },
  {
   "cell_type": "code",
   "execution_count": 26,
   "id": "27d1624c",
   "metadata": {
    "execution": {
     "iopub.execute_input": "2025-10-27T09:49:37.028727Z",
     "iopub.status.busy": "2025-10-27T09:49:37.028391Z",
     "iopub.status.idle": "2025-10-27T09:49:37.490035Z",
     "shell.execute_reply": "2025-10-27T09:49:37.488946Z"
    },
    "papermill": {
     "duration": 0.476795,
     "end_time": "2025-10-27T09:49:37.491854",
     "exception": false,
     "start_time": "2025-10-27T09:49:37.015059",
     "status": "completed"
    },
    "tags": []
   },
   "outputs": [
    {
     "data": {
      "text/html": [
       "<div>\n",
       "<style scoped>\n",
       "    .dataframe tbody tr th:only-of-type {\n",
       "        vertical-align: middle;\n",
       "    }\n",
       "\n",
       "    .dataframe tbody tr th {\n",
       "        vertical-align: top;\n",
       "    }\n",
       "\n",
       "    .dataframe thead th {\n",
       "        text-align: right;\n",
       "    }\n",
       "</style>\n",
       "<table border=\"1\" class=\"dataframe\">\n",
       "  <thead>\n",
       "    <tr style=\"text-align: right;\">\n",
       "      <th></th>\n",
       "      <th>id</th>\n",
       "      <th>accident_risk</th>\n",
       "    </tr>\n",
       "  </thead>\n",
       "  <tbody>\n",
       "    <tr>\n",
       "      <th>0</th>\n",
       "      <td>517754</td>\n",
       "      <td>0.295199</td>\n",
       "    </tr>\n",
       "    <tr>\n",
       "      <th>1</th>\n",
       "      <td>517755</td>\n",
       "      <td>0.127074</td>\n",
       "    </tr>\n",
       "    <tr>\n",
       "      <th>2</th>\n",
       "      <td>517756</td>\n",
       "      <td>0.180568</td>\n",
       "    </tr>\n",
       "    <tr>\n",
       "      <th>3</th>\n",
       "      <td>517757</td>\n",
       "      <td>0.343060</td>\n",
       "    </tr>\n",
       "    <tr>\n",
       "      <th>4</th>\n",
       "      <td>517758</td>\n",
       "      <td>0.379991</td>\n",
       "    </tr>\n",
       "  </tbody>\n",
       "</table>\n",
       "</div>"
      ],
      "text/plain": [
       "       id  accident_risk\n",
       "0  517754       0.295199\n",
       "1  517755       0.127074\n",
       "2  517756       0.180568\n",
       "3  517757       0.343060\n",
       "4  517758       0.379991"
      ]
     },
     "execution_count": 26,
     "metadata": {},
     "output_type": "execute_result"
    }
   ],
   "source": [
    "sub = pd.read_csv('/kaggle/input/playground-series-s5e10/sample_submission.csv')\n",
    "sub['accident_risk'] = test_preds\n",
    "sub.to_csv('submission.csv', index=False)\n",
    "sub.head()"
   ]
  }
 ],
 "metadata": {
  "kaggle": {
   "accelerator": "none",
   "dataSources": [
    {
     "databundleVersionId": 13760552,
     "sourceId": 91721,
     "sourceType": "competition"
    },
    {
     "datasetId": 7797612,
     "sourceId": 12367739,
     "sourceType": "datasetVersion"
    }
   ],
   "dockerImageVersionId": 31153,
   "isGpuEnabled": false,
   "isInternetEnabled": true,
   "language": "python",
   "sourceType": "notebook"
  },
  "kernelspec": {
   "display_name": "Python 3",
   "language": "python",
   "name": "python3"
  },
  "language_info": {
   "codemirror_mode": {
    "name": "ipython",
    "version": 3
   },
   "file_extension": ".py",
   "mimetype": "text/x-python",
   "name": "python",
   "nbconvert_exporter": "python",
   "pygments_lexer": "ipython3",
   "version": "3.11.13"
  },
  "papermill": {
   "default_parameters": {},
   "duration": 1244.535283,
   "end_time": "2025-10-27T09:49:38.729801",
   "environment_variables": {},
   "exception": null,
   "input_path": "__notebook__.ipynb",
   "output_path": "__notebook__.ipynb",
   "parameters": {},
   "start_time": "2025-10-27T09:28:54.194518",
   "version": "2.6.0"
  },
  "widgets": {
   "application/vnd.jupyter.widget-state+json": {
    "state": {
     "2dcfbda5cc74411f80841b0ce8b4e0df": {
      "model_module": "@jupyter-widgets/controls",
      "model_module_version": "2.0.0",
      "model_name": "HBoxModel",
      "state": {
       "_dom_classes": [],
       "_model_module": "@jupyter-widgets/controls",
       "_model_module_version": "2.0.0",
       "_model_name": "HBoxModel",
       "_view_count": null,
       "_view_module": "@jupyter-widgets/controls",
       "_view_module_version": "2.0.0",
       "_view_name": "HBoxView",
       "box_style": "",
       "children": [
        "IPY_MODEL_f7101dfd72fc40d8b009ad32de90b995",
        "IPY_MODEL_e100039829814a5a927286beddd394b6",
        "IPY_MODEL_ba84ac6364944d8d9f957d87ac9b247d"
       ],
       "layout": "IPY_MODEL_dc73302837474edd8631c20630101de3",
       "tabbable": null,
       "tooltip": null
      }
     },
     "844acc11718f44ce83966307eb58337e": {
      "model_module": "@jupyter-widgets/base",
      "model_module_version": "2.0.0",
      "model_name": "LayoutModel",
      "state": {
       "_model_module": "@jupyter-widgets/base",
       "_model_module_version": "2.0.0",
       "_model_name": "LayoutModel",
       "_view_count": null,
       "_view_module": "@jupyter-widgets/base",
       "_view_module_version": "2.0.0",
       "_view_name": "LayoutView",
       "align_content": null,
       "align_items": null,
       "align_self": null,
       "border_bottom": null,
       "border_left": null,
       "border_right": null,
       "border_top": null,
       "bottom": null,
       "display": null,
       "flex": null,
       "flex_flow": null,
       "grid_area": null,
       "grid_auto_columns": null,
       "grid_auto_flow": null,
       "grid_auto_rows": null,
       "grid_column": null,
       "grid_gap": null,
       "grid_row": null,
       "grid_template_areas": null,
       "grid_template_columns": null,
       "grid_template_rows": null,
       "height": null,
       "justify_content": null,
       "justify_items": null,
       "left": null,
       "margin": null,
       "max_height": null,
       "max_width": null,
       "min_height": null,
       "min_width": null,
       "object_fit": null,
       "object_position": null,
       "order": null,
       "overflow": null,
       "padding": null,
       "right": null,
       "top": null,
       "visibility": null,
       "width": null
      }
     },
     "979b7c8ff18a407ebe6094ffff1b46df": {
      "model_module": "@jupyter-widgets/controls",
      "model_module_version": "2.0.0",
      "model_name": "ProgressStyleModel",
      "state": {
       "_model_module": "@jupyter-widgets/controls",
       "_model_module_version": "2.0.0",
       "_model_name": "ProgressStyleModel",
       "_view_count": null,
       "_view_module": "@jupyter-widgets/base",
       "_view_module_version": "2.0.0",
       "_view_name": "StyleView",
       "bar_color": null,
       "description_width": ""
      }
     },
     "ba84ac6364944d8d9f957d87ac9b247d": {
      "model_module": "@jupyter-widgets/controls",
      "model_module_version": "2.0.0",
      "model_name": "HTMLModel",
      "state": {
       "_dom_classes": [],
       "_model_module": "@jupyter-widgets/controls",
       "_model_module_version": "2.0.0",
       "_model_name": "HTMLModel",
       "_view_count": null,
       "_view_module": "@jupyter-widgets/controls",
       "_view_module_version": "2.0.0",
       "_view_name": "HTMLView",
       "description": "",
       "description_allow_html": false,
       "layout": "IPY_MODEL_d1323fde242b46729989f78e3b44767e",
       "placeholder": "​",
       "style": "IPY_MODEL_e6ed56474edd4571b1f36d981c340b9f",
       "tabbable": null,
       "tooltip": null,
       "value": " 15/15 [19:59&lt;00:00, 89.43s/it]"
      }
     },
     "c711157c8d474795ba387daa7b65ca6a": {
      "model_module": "@jupyter-widgets/base",
      "model_module_version": "2.0.0",
      "model_name": "LayoutModel",
      "state": {
       "_model_module": "@jupyter-widgets/base",
       "_model_module_version": "2.0.0",
       "_model_name": "LayoutModel",
       "_view_count": null,
       "_view_module": "@jupyter-widgets/base",
       "_view_module_version": "2.0.0",
       "_view_name": "LayoutView",
       "align_content": null,
       "align_items": null,
       "align_self": null,
       "border_bottom": null,
       "border_left": null,
       "border_right": null,
       "border_top": null,
       "bottom": null,
       "display": null,
       "flex": null,
       "flex_flow": null,
       "grid_area": null,
       "grid_auto_columns": null,
       "grid_auto_flow": null,
       "grid_auto_rows": null,
       "grid_column": null,
       "grid_gap": null,
       "grid_row": null,
       "grid_template_areas": null,
       "grid_template_columns": null,
       "grid_template_rows": null,
       "height": null,
       "justify_content": null,
       "justify_items": null,
       "left": null,
       "margin": null,
       "max_height": null,
       "max_width": null,
       "min_height": null,
       "min_width": null,
       "object_fit": null,
       "object_position": null,
       "order": null,
       "overflow": null,
       "padding": null,
       "right": null,
       "top": null,
       "visibility": null,
       "width": null
      }
     },
     "cb8864ed64964826a67491964cfef83a": {
      "model_module": "@jupyter-widgets/controls",
      "model_module_version": "2.0.0",
      "model_name": "HTMLStyleModel",
      "state": {
       "_model_module": "@jupyter-widgets/controls",
       "_model_module_version": "2.0.0",
       "_model_name": "HTMLStyleModel",
       "_view_count": null,
       "_view_module": "@jupyter-widgets/base",
       "_view_module_version": "2.0.0",
       "_view_name": "StyleView",
       "background": null,
       "description_width": "",
       "font_size": null,
       "text_color": null
      }
     },
     "d1323fde242b46729989f78e3b44767e": {
      "model_module": "@jupyter-widgets/base",
      "model_module_version": "2.0.0",
      "model_name": "LayoutModel",
      "state": {
       "_model_module": "@jupyter-widgets/base",
       "_model_module_version": "2.0.0",
       "_model_name": "LayoutModel",
       "_view_count": null,
       "_view_module": "@jupyter-widgets/base",
       "_view_module_version": "2.0.0",
       "_view_name": "LayoutView",
       "align_content": null,
       "align_items": null,
       "align_self": null,
       "border_bottom": null,
       "border_left": null,
       "border_right": null,
       "border_top": null,
       "bottom": null,
       "display": null,
       "flex": null,
       "flex_flow": null,
       "grid_area": null,
       "grid_auto_columns": null,
       "grid_auto_flow": null,
       "grid_auto_rows": null,
       "grid_column": null,
       "grid_gap": null,
       "grid_row": null,
       "grid_template_areas": null,
       "grid_template_columns": null,
       "grid_template_rows": null,
       "height": null,
       "justify_content": null,
       "justify_items": null,
       "left": null,
       "margin": null,
       "max_height": null,
       "max_width": null,
       "min_height": null,
       "min_width": null,
       "object_fit": null,
       "object_position": null,
       "order": null,
       "overflow": null,
       "padding": null,
       "right": null,
       "top": null,
       "visibility": null,
       "width": null
      }
     },
     "dc73302837474edd8631c20630101de3": {
      "model_module": "@jupyter-widgets/base",
      "model_module_version": "2.0.0",
      "model_name": "LayoutModel",
      "state": {
       "_model_module": "@jupyter-widgets/base",
       "_model_module_version": "2.0.0",
       "_model_name": "LayoutModel",
       "_view_count": null,
       "_view_module": "@jupyter-widgets/base",
       "_view_module_version": "2.0.0",
       "_view_name": "LayoutView",
       "align_content": null,
       "align_items": null,
       "align_self": null,
       "border_bottom": null,
       "border_left": null,
       "border_right": null,
       "border_top": null,
       "bottom": null,
       "display": null,
       "flex": null,
       "flex_flow": null,
       "grid_area": null,
       "grid_auto_columns": null,
       "grid_auto_flow": null,
       "grid_auto_rows": null,
       "grid_column": null,
       "grid_gap": null,
       "grid_row": null,
       "grid_template_areas": null,
       "grid_template_columns": null,
       "grid_template_rows": null,
       "height": null,
       "justify_content": null,
       "justify_items": null,
       "left": null,
       "margin": null,
       "max_height": null,
       "max_width": null,
       "min_height": null,
       "min_width": null,
       "object_fit": null,
       "object_position": null,
       "order": null,
       "overflow": null,
       "padding": null,
       "right": null,
       "top": null,
       "visibility": null,
       "width": null
      }
     },
     "e100039829814a5a927286beddd394b6": {
      "model_module": "@jupyter-widgets/controls",
      "model_module_version": "2.0.0",
      "model_name": "FloatProgressModel",
      "state": {
       "_dom_classes": [],
       "_model_module": "@jupyter-widgets/controls",
       "_model_module_version": "2.0.0",
       "_model_name": "FloatProgressModel",
       "_view_count": null,
       "_view_module": "@jupyter-widgets/controls",
       "_view_module_version": "2.0.0",
       "_view_name": "ProgressView",
       "bar_style": "success",
       "description": "",
       "description_allow_html": false,
       "layout": "IPY_MODEL_c711157c8d474795ba387daa7b65ca6a",
       "max": 15.0,
       "min": 0.0,
       "orientation": "horizontal",
       "style": "IPY_MODEL_979b7c8ff18a407ebe6094ffff1b46df",
       "tabbable": null,
       "tooltip": null,
       "value": 15.0
      }
     },
     "e6ed56474edd4571b1f36d981c340b9f": {
      "model_module": "@jupyter-widgets/controls",
      "model_module_version": "2.0.0",
      "model_name": "HTMLStyleModel",
      "state": {
       "_model_module": "@jupyter-widgets/controls",
       "_model_module_version": "2.0.0",
       "_model_name": "HTMLStyleModel",
       "_view_count": null,
       "_view_module": "@jupyter-widgets/base",
       "_view_module_version": "2.0.0",
       "_view_name": "StyleView",
       "background": null,
       "description_width": "",
       "font_size": null,
       "text_color": null
      }
     },
     "f7101dfd72fc40d8b009ad32de90b995": {
      "model_module": "@jupyter-widgets/controls",
      "model_module_version": "2.0.0",
      "model_name": "HTMLModel",
      "state": {
       "_dom_classes": [],
       "_model_module": "@jupyter-widgets/controls",
       "_model_module_version": "2.0.0",
       "_model_name": "HTMLModel",
       "_view_count": null,
       "_view_module": "@jupyter-widgets/controls",
       "_view_module_version": "2.0.0",
       "_view_name": "HTMLView",
       "description": "",
       "description_allow_html": false,
       "layout": "IPY_MODEL_844acc11718f44ce83966307eb58337e",
       "placeholder": "​",
       "style": "IPY_MODEL_cb8864ed64964826a67491964cfef83a",
       "tabbable": null,
       "tooltip": null,
       "value": "Best trial: 14. Best value: 0.055886: 100%"
      }
     }
    },
    "version_major": 2,
    "version_minor": 0
   }
  }
 },
 "nbformat": 4,
 "nbformat_minor": 5
}
